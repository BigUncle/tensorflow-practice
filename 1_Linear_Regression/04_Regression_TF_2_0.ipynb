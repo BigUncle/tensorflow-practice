{
  "nbformat": 4,
  "nbformat_minor": 0,
  "metadata": {
    "kernelspec": {
      "display_name": "Python (spinningup)",
      "language": "python",
      "name": "spinningup"
    },
    "language_info": {
      "codemirror_mode": {
        "name": "ipython",
        "version": 3
      },
      "file_extension": ".py",
      "mimetype": "text/x-python",
      "name": "python",
      "nbconvert_exporter": "python",
      "pygments_lexer": "ipython3",
      "version": "3.6.8"
    },
    "colab": {
      "name": "04-Regression_TF_2.0.ipynb",
      "provenance": []
    }
  },
  "cells": [
    {
      "cell_type": "markdown",
      "metadata": {
        "collapsed": true,
        "id": "oYccxxnp8n57",
        "colab_type": "text"
      },
      "source": [
        "# TensorFlow Regression Example"
      ]
    },
    {
      "cell_type": "markdown",
      "metadata": {
        "id": "X_tOdBGk8n59",
        "colab_type": "text"
      },
      "source": [
        "## Creating Data"
      ]
    },
    {
      "cell_type": "code",
      "metadata": {
        "id": "K8bjLm3F8n5-",
        "colab_type": "code",
        "colab": {}
      },
      "source": [
        "import numpy as np\n",
        "import matplotlib.pyplot as plt\n",
        "%matplotlib inline"
      ],
      "execution_count": 0,
      "outputs": []
    },
    {
      "cell_type": "code",
      "metadata": {
        "id": "UHypSMNw8n6B",
        "colab_type": "code",
        "colab": {}
      },
      "source": [
        "# 1 Million Points\n",
        "x_data = np.linspace(0.0,10.0,1000000)"
      ],
      "execution_count": 0,
      "outputs": []
    },
    {
      "cell_type": "code",
      "metadata": {
        "id": "OOp59-hl8n6F",
        "colab_type": "code",
        "colab": {}
      },
      "source": [
        "noise = np.random.randn(len(x_data))"
      ],
      "execution_count": 0,
      "outputs": []
    },
    {
      "cell_type": "code",
      "metadata": {
        "id": "Jj-MqFWI8n6K",
        "colab_type": "code",
        "colab": {}
      },
      "source": [
        "# y = mx + b + noise_levels\n",
        "b = 10\n",
        "\n",
        "y_true =  (2.5 * x_data ) + 15 + noise"
      ],
      "execution_count": 0,
      "outputs": []
    },
    {
      "cell_type": "code",
      "metadata": {
        "id": "gnVtQiQI8n6O",
        "colab_type": "code",
        "outputId": "2d9a1e85-8f23-4838-a72b-07db8afaca3e",
        "colab": {
          "base_uri": "https://localhost:8080/",
          "height": 286
        }
      },
      "source": [
        "sample_indx = np.random.randint(len(x_data),size=(250))\n",
        "plt.plot(x_data[sample_indx],y_true[sample_indx],'*')"
      ],
      "execution_count": 0,
      "outputs": [
        {
          "output_type": "execute_result",
          "data": {
            "text/plain": [
              "[<matplotlib.lines.Line2D at 0x7f6d9537aa90>]"
            ]
          },
          "metadata": {
            "tags": []
          },
          "execution_count": 5
        },
        {
          "output_type": "display_data",
          "data": {
            "image/png": "[encoded data removed]",
            "text/plain": [
              "<Figure size 432x288 with 1 Axes>"
            ]
          },
          "metadata": {
            "tags": []
          }
        }
      ]
    },
    {
      "cell_type": "markdown",
      "metadata": {
        "id": "uZyXbrKi8u8I",
        "colab_type": "text"
      },
      "source": [
        "# Tensorflow 2.0"
      ]
    },
    {
      "cell_type": "code",
      "metadata": {
        "id": "4zoFygqh8zM9",
        "colab_type": "code",
        "outputId": "badfd58e-38f0-4935-e861-0f83a9929e9f",
        "colab": {
          "base_uri": "https://localhost:8080/",
          "height": 34
        }
      },
      "source": [
        "try:\n",
        "  # %tensorflow_version only exists in Colab.\n",
        "  %tensorflow_version 2.x\n",
        "except Exception:\n",
        "  pass"
      ],
      "execution_count": 0,
      "outputs": [
        {
          "output_type": "stream",
          "text": [
            "TensorFlow 2.x selected.\n"
          ],
          "name": "stdout"
        }
      ]
    },
    {
      "cell_type": "code",
      "metadata": {
        "id": "KhVmpJD4_iy6",
        "colab_type": "code",
        "colab": {}
      },
      "source": [
        "import tensorflow as tf"
      ],
      "execution_count": 0,
      "outputs": []
    },
    {
      "cell_type": "code",
      "metadata": {
        "id": "G6tk00Fv89Gh",
        "colab_type": "code",
        "colab": {}
      },
      "source": [
        "BATCH_SIZE = 1000\n",
        "BATCHS = 10000\n",
        "\n",
        "display_step = 100"
      ],
      "execution_count": 0,
      "outputs": []
    },
    {
      "cell_type": "code",
      "metadata": {
        "id": "QQFOC1mh_Q66",
        "colab_type": "code",
        "colab": {}
      },
      "source": [
        "w = tf.Variable(initial_value=0.)\n",
        "b = tf.Variable(initial_value=0.)"
      ],
      "execution_count": 0,
      "outputs": []
    },
    {
      "cell_type": "code",
      "metadata": {
        "id": "cpeeW-Zf9BbK",
        "colab_type": "code",
        "colab": {}
      },
      "source": [
        "def next_batch(x_data, batch_size):\n",
        "    batch_index = np.random.randint(len(x_data),size=(BATCH_SIZE))\n",
        "    x_train = x_data[batch_index]\n",
        "    y_train = y_true[batch_index]\n",
        "    return x_train, y_train"
      ],
      "execution_count": 0,
      "outputs": []
    },
    {
      "cell_type": "code",
      "metadata": {
        "id": "OgEPuJ-oBuSS",
        "colab_type": "code",
        "colab": {}
      },
      "source": [
        "optimizer = tf.keras.optimizers.SGD(learning_rate= 1e-3)"
      ],
      "execution_count": 0,
      "outputs": []
    },
    {
      "cell_type": "code",
      "metadata": {
        "id": "4GGPEpf79jod",
        "colab_type": "code",
        "outputId": "d2e3fe64-7e76-429a-d0f6-8285f2d23db5",
        "colab": {
          "base_uri": "https://localhost:8080/",
          "height": 1000
        }
      },
      "source": [
        "for step in range(BATCHS):\n",
        "  x_train, y_train = next_batch(x_data, BATCH_SIZE)\n",
        "  with tf.GradientTape() as tape:\n",
        "    y_pred = w * x_train + b\n",
        "    loss = tf.reduce_sum(tf.square(y_pred - y_train))/(BATCH_SIZE)\n",
        "  \n",
        "  grads = tape.gradient(loss, [w, b])\n",
        "  optimizer.apply_gradients(grads_and_vars=zip(grads,[w,b]))\n",
        "  \n",
        "  if (step + 1) % display_step == 0 or step == 0:\n",
        "    print(\"Step : {}, loss : {} , w : {}, b : {}\".format(step, loss.numpy(), w.numpy(), b.numpy()))"
      ],
      "execution_count": 0,
      "outputs": [
        {
          "output_type": "stream",
          "text": [
            "Step : 0, loss : 814.6525268554688 , w : 0.3209573030471802, b : 0.055150147527456284\n",
            "Step : 99, loss : 45.239585876464844 , w : 4.554308891296387, b : 1.3886845111846924\n",
            "Step : 199, loss : 45.4139518737793 , w : 4.453917026519775, b : 2.040172576904297\n",
            "Step : 299, loss : 40.6907958984375 , w : 4.362486839294434, b : 2.658822536468506\n",
            "Step : 399, loss : 36.635555267333984 , w : 4.280228137969971, b : 3.248326063156128\n",
            "Step : 499, loss : 31.41555404663086 , w : 4.196402549743652, b : 3.808826446533203\n",
            "Step : 599, loss : 29.40784454345703 , w : 4.1095871925354, b : 4.3405046463012695\n",
            "Step : 699, loss : 24.84896469116211 , w : 4.036120414733887, b : 4.852463722229004\n",
            "Step : 799, loss : 23.658432006835938 , w : 3.9541208744049072, b : 5.333377361297607\n",
            "Step : 899, loss : 21.810272216796875 , w : 3.8898608684539795, b : 5.796113014221191\n",
            "Step : 999, loss : 20.085176467895508 , w : 3.825533390045166, b : 6.235480308532715\n",
            "Step : 1099, loss : 19.29035186767578 , w : 3.768279552459717, b : 6.654799938201904\n",
            "Step : 1199, loss : 17.011144638061523 , w : 3.6989502906799316, b : 7.047661781311035\n",
            "Step : 1299, loss : 15.862174987792969 , w : 3.6464157104492188, b : 7.427348613739014\n",
            "Step : 1399, loss : 14.348519325256348 , w : 3.5874109268188477, b : 7.787978172302246\n",
            "Step : 1499, loss : 13.02226734161377 , w : 3.536268472671509, b : 8.134143829345703\n",
            "Step : 1599, loss : 11.316140174865723 , w : 3.4904563426971436, b : 8.461657524108887\n",
            "Step : 1699, loss : 10.796587944030762 , w : 3.4452009201049805, b : 8.774157524108887\n",
            "Step : 1799, loss : 9.328849792480469 , w : 3.3948981761932373, b : 9.070752143859863\n",
            "Step : 1899, loss : 8.771806716918945 , w : 3.3581702709198, b : 9.354774475097656\n",
            "Step : 1999, loss : 8.676013946533203 , w : 3.310575008392334, b : 9.6246976852417\n",
            "Step : 2099, loss : 7.780765533447266 , w : 3.2736833095550537, b : 9.882139205932617\n",
            "Step : 2199, loss : 6.8810954093933105 , w : 3.2386763095855713, b : 10.125203132629395\n",
            "Step : 2299, loss : 6.461907386779785 , w : 3.201842784881592, b : 10.357569694519043\n",
            "Step : 2399, loss : 5.77627420425415 , w : 3.1660444736480713, b : 10.578142166137695\n",
            "Step : 2499, loss : 5.516714096069336 , w : 3.1336300373077393, b : 10.788414001464844\n",
            "Step : 2599, loss : 4.920442581176758 , w : 3.1042652130126953, b : 10.989907264709473\n",
            "Step : 2699, loss : 4.6933369636535645 , w : 3.0770347118377686, b : 11.180727005004883\n",
            "Step : 2799, loss : 4.3100361824035645 , w : 3.046912431716919, b : 11.36274242401123\n",
            "Step : 2899, loss : 4.157888889312744 , w : 3.0219078063964844, b : 11.537755012512207\n",
            "Step : 2999, loss : 3.913125991821289 , w : 2.9989633560180664, b : 11.702058792114258\n",
            "Step : 3099, loss : 3.545163631439209 , w : 2.973287582397461, b : 11.859481811523438\n",
            "Step : 3199, loss : 3.184396505355835 , w : 2.950822114944458, b : 12.00882339477539\n",
            "Step : 3299, loss : 3.0645105838775635 , w : 2.93072247505188, b : 12.152315139770508\n",
            "Step : 3399, loss : 2.8450732231140137 , w : 2.908210515975952, b : 12.28832721710205\n",
            "Step : 3499, loss : 2.642448902130127 , w : 2.889333724975586, b : 12.418234825134277\n",
            "Step : 3599, loss : 2.5295305252075195 , w : 2.870103120803833, b : 12.541110038757324\n",
            "Step : 3699, loss : 2.3393919467926025 , w : 2.8549840450286865, b : 12.65898609161377\n",
            "Step : 3799, loss : 2.2892706394195557 , w : 2.8371293544769287, b : 12.771404266357422\n",
            "Step : 3899, loss : 2.199495315551758 , w : 2.8185856342315674, b : 12.876619338989258\n",
            "Step : 3999, loss : 2.038451910018921 , w : 2.805955648422241, b : 12.979365348815918\n",
            "Step : 4099, loss : 2.007132053375244 , w : 2.7911088466644287, b : 13.076038360595703\n",
            "Step : 4199, loss : 1.8211150169372559 , w : 2.774716377258301, b : 13.167858123779297\n",
            "Step : 4299, loss : 1.813841700553894 , w : 2.76387095451355, b : 13.256153106689453\n",
            "Step : 4399, loss : 1.718488335609436 , w : 2.751746892929077, b : 13.339740753173828\n",
            "Step : 4499, loss : 1.5228973627090454 , w : 2.7382521629333496, b : 13.418867111206055\n",
            "Step : 4599, loss : 1.6066291332244873 , w : 2.7281434535980225, b : 13.494295120239258\n",
            "Step : 4699, loss : 1.520355463027954 , w : 2.716238498687744, b : 13.565500259399414\n",
            "Step : 4799, loss : 1.5208371877670288 , w : 2.7071456909179688, b : 13.633960723876953\n",
            "Step : 4899, loss : 1.2558903694152832 , w : 2.695788860321045, b : 13.69793701171875\n",
            "Step : 4999, loss : 1.3866294622421265 , w : 2.6887669563293457, b : 13.760631561279297\n",
            "Step : 5099, loss : 1.3938119411468506 , w : 2.6786105632781982, b : 13.819979667663574\n",
            "Step : 5199, loss : 1.2253234386444092 , w : 2.6696550846099854, b : 13.875978469848633\n",
            "Step : 5299, loss : 1.184954047203064 , w : 2.6612539291381836, b : 13.929588317871094\n",
            "Step : 5399, loss : 1.3810077905654907 , w : 2.655073404312134, b : 13.9813814163208\n",
            "Step : 5499, loss : 1.1847156286239624 , w : 2.647453546524048, b : 14.029555320739746\n",
            "Step : 5599, loss : 1.1822946071624756 , w : 2.6407463550567627, b : 14.07616901397705\n",
            "Step : 5699, loss : 1.2727285623550415 , w : 2.6346960067749023, b : 14.120757102966309\n",
            "Step : 5799, loss : 1.203250765800476 , w : 2.62576961517334, b : 14.1619291305542\n",
            "Step : 5899, loss : 1.1499836444854736 , w : 2.621358633041382, b : 14.202682495117188\n",
            "Step : 5999, loss : 1.2088984251022339 , w : 2.615985870361328, b : 14.241392135620117\n",
            "Step : 6099, loss : 1.0379612445831299 , w : 2.6082327365875244, b : 14.277504920959473\n",
            "Step : 6199, loss : 1.1036622524261475 , w : 2.604041576385498, b : 14.312551498413086\n",
            "Step : 6299, loss : 1.1117262840270996 , w : 2.5989205837249756, b : 14.345475196838379\n",
            "Step : 6399, loss : 1.157754898071289 , w : 2.593971014022827, b : 14.376237869262695\n",
            "Step : 6499, loss : 1.0980644226074219 , w : 2.589686155319214, b : 14.405954360961914\n",
            "Step : 6599, loss : 0.9779994487762451 , w : 2.5878467559814453, b : 14.43416976928711\n",
            "Step : 6699, loss : 1.01261305809021 , w : 2.581773281097412, b : 14.461241722106934\n",
            "Step : 6799, loss : 1.0940587520599365 , w : 2.5780203342437744, b : 14.48633098602295\n",
            "Step : 6899, loss : 1.0186609029769897 , w : 2.5744504928588867, b : 14.511200904846191\n",
            "Step : 6999, loss : 1.0083328485488892 , w : 2.5709187984466553, b : 14.53400993347168\n",
            "Step : 7099, loss : 1.0654505491256714 , w : 2.5679516792297363, b : 14.557185173034668\n",
            "Step : 7199, loss : 1.0017586946487427 , w : 2.563717842102051, b : 14.57797908782959\n",
            "Step : 7299, loss : 0.9715085625648499 , w : 2.561490535736084, b : 14.599075317382812\n",
            "Step : 7399, loss : 1.1256438493728638 , w : 2.5584359169006348, b : 14.618155479431152\n",
            "Step : 7499, loss : 1.0346862077713013 , w : 2.554570436477661, b : 14.636017799377441\n",
            "Step : 7599, loss : 0.9975355863571167 , w : 2.5515058040618896, b : 14.654014587402344\n",
            "Step : 7699, loss : 0.9402895569801331 , w : 2.5492746829986572, b : 14.670736312866211\n",
            "Step : 7799, loss : 0.9675527215003967 , w : 2.547581911087036, b : 14.686393737792969\n",
            "Step : 7899, loss : 0.9136863946914673 , w : 2.5450973510742188, b : 14.701302528381348\n",
            "Step : 7999, loss : 1.028833270072937 , w : 2.5431532859802246, b : 14.715288162231445\n",
            "Step : 8099, loss : 0.9889910221099854 , w : 2.541351556777954, b : 14.728631973266602\n",
            "Step : 8199, loss : 1.033254623413086 , w : 2.539987564086914, b : 14.741544723510742\n",
            "Step : 8299, loss : 1.0562670230865479 , w : 2.536468744277954, b : 14.753676414489746\n",
            "Step : 8399, loss : 1.0088250637054443 , w : 2.536756992340088, b : 14.766134262084961\n",
            "Step : 8499, loss : 1.0582077503204346 , w : 2.53434419631958, b : 14.777174949645996\n",
            "Step : 8599, loss : 1.0191988945007324 , w : 2.531667947769165, b : 14.787735939025879\n",
            "Step : 8699, loss : 1.0289463996887207 , w : 2.5303955078125, b : 14.797791481018066\n",
            "Step : 8799, loss : 0.9926245808601379 , w : 2.5298404693603516, b : 14.808001518249512\n",
            "Step : 8899, loss : 0.9982694387435913 , w : 2.5299758911132812, b : 14.81803035736084\n",
            "Step : 8999, loss : 1.0031824111938477 , w : 2.527043104171753, b : 14.826723098754883\n",
            "Step : 9099, loss : 1.0076197385787964 , w : 2.5258266925811768, b : 14.834994316101074\n",
            "Step : 9199, loss : 1.0439075231552124 , w : 2.524226665496826, b : 14.842796325683594\n",
            "Step : 9299, loss : 0.8854578137397766 , w : 2.5226118564605713, b : 14.849699020385742\n",
            "Step : 9399, loss : 1.1094013452529907 , w : 2.5203793048858643, b : 14.856334686279297\n",
            "Step : 9499, loss : 0.9885392189025879 , w : 2.520023822784424, b : 14.863245964050293\n",
            "Step : 9599, loss : 0.9760667681694031 , w : 2.5183770656585693, b : 14.869832038879395\n",
            "Step : 9699, loss : 0.967897355556488 , w : 2.518181562423706, b : 14.876235961914062\n",
            "Step : 9799, loss : 0.9606937766075134 , w : 2.518599271774292, b : 14.882370948791504\n",
            "Step : 9899, loss : 0.9374837875366211 , w : 2.5172102451324463, b : 14.88753604888916\n",
            "Step : 9999, loss : 1.0772864818572998 , w : 2.517148971557617, b : 14.893044471740723\n"
          ],
          "name": "stdout"
        }
      ]
    },
    {
      "cell_type": "code",
      "metadata": {
        "id": "K-jWJnsbCb9t",
        "colab_type": "code",
        "outputId": "ace707bf-b072-4bf9-e1dd-ca67018f9a4f",
        "colab": {
          "base_uri": "https://localhost:8080/",
          "height": 286
        }
      },
      "source": [
        "plt.plot(x_data[sample_indx],y_true[sample_indx],'*')\n",
        "plt.plot(x_data, w.numpy()*x_data+b.numpy(),'r')"
      ],
      "execution_count": 0,
      "outputs": [
        {
          "output_type": "execute_result",
          "data": {
            "text/plain": [
              "[<matplotlib.lines.Line2D at 0x7f6d7689f748>]"
            ]
          },
          "metadata": {
            "tags": []
          },
          "execution_count": 58
        },
        {
          "output_type": "display_data",
          "data": {
            "image/png": "[encoded data removed]",
            "text/plain": [
              "<Figure size 432x288 with 1 Axes>"
            ]
          },
          "metadata": {
            "tags": []
          }
        }
      ]
    },
    {
      "cell_type": "markdown",
      "metadata": {
        "id": "zbw-oZBX8n6S",
        "colab_type": "text"
      },
      "source": [
        "# TF Eager Execution\n"
      ]
    },
    {
      "cell_type": "code",
      "metadata": {
        "id": "_OcFXyWL8n6T",
        "colab_type": "code",
        "colab": {}
      },
      "source": [
        "import tensorflow as tf"
      ],
      "execution_count": 0,
      "outputs": []
    },
    {
      "cell_type": "code",
      "metadata": {
        "id": "3diK_5KV8n6X",
        "colab_type": "code",
        "colab": {}
      },
      "source": [
        "# Set Eager API\n",
        "tf.enable_eager_execution()\n",
        "tfe = tf.contrib.eager"
      ],
      "execution_count": 0,
      "outputs": []
    },
    {
      "cell_type": "code",
      "metadata": {
        "id": "aYVlrE-78n6Z",
        "colab_type": "code",
        "colab": {}
      },
      "source": [
        "BATCH_SIZE = 1000\n",
        "BATCHS = 10000"
      ],
      "execution_count": 0,
      "outputs": []
    },
    {
      "cell_type": "code",
      "metadata": {
        "id": "jLHVq4AT8n6b",
        "colab_type": "code",
        "colab": {}
      },
      "source": [
        "def next_batch(x_data, batch_size):\n",
        "    batch_index = np.random.randint(len(x_data),size=(BATCH_SIZE))\n",
        "    x_train = x_data[batch_index]\n",
        "    y_train = y_true[batch_index]\n",
        "    return x_train, y_train"
      ],
      "execution_count": 0,
      "outputs": []
    },
    {
      "cell_type": "markdown",
      "metadata": {
        "id": "AkohyyRv8n6f",
        "colab_type": "text"
      },
      "source": [
        "**Variables**"
      ]
    },
    {
      "cell_type": "code",
      "metadata": {
        "id": "g97e_Xdv8n6f",
        "colab_type": "code",
        "colab": {}
      },
      "source": [
        "w_tfe = tf.Variable(np.random.uniform())\n",
        "b_tfe = tf.Variable(np.random.uniform(1,10))"
      ],
      "execution_count": 0,
      "outputs": []
    },
    {
      "cell_type": "markdown",
      "metadata": {
        "id": "pq5R2A0w8n6j",
        "colab_type": "text"
      },
      "source": [
        "**Linear regression function**"
      ]
    },
    {
      "cell_type": "code",
      "metadata": {
        "id": "eeERhtI98n6k",
        "colab_type": "code",
        "colab": {}
      },
      "source": [
        "# Linear regression (Wx + b)\n",
        "def linear_regression(inputs):\n",
        "    return inputs * w_tfe + b_tfe"
      ],
      "execution_count": 0,
      "outputs": []
    },
    {
      "cell_type": "markdown",
      "metadata": {
        "id": "QdbdmM3H8n6o",
        "colab_type": "text"
      },
      "source": [
        "**Lost function: MS**"
      ]
    },
    {
      "cell_type": "code",
      "metadata": {
        "id": "QhtlCGBx8n6p",
        "colab_type": "code",
        "colab": {}
      },
      "source": [
        "def mean_square_fn(model_fn, inputs, labels):\n",
        "    return tf.reduce_sum(tf.pow(model_fn(inputs) - labels, 2)) / (2 * BATCH_SIZE)"
      ],
      "execution_count": 0,
      "outputs": []
    },
    {
      "cell_type": "markdown",
      "metadata": {
        "id": "_Zcxe26i8n6u",
        "colab_type": "text"
      },
      "source": [
        "**Optimizer**"
      ]
    },
    {
      "cell_type": "code",
      "metadata": {
        "id": "g0w_9iaU8n6v",
        "colab_type": "code",
        "colab": {}
      },
      "source": [
        "optimizer = tf.train.GradientDescentOptimizer(learning_rate=0.001)\n",
        "\n",
        "grad = tfe.implicit_gradients(mean_square_fn)"
      ],
      "execution_count": 0,
      "outputs": []
    },
    {
      "cell_type": "code",
      "metadata": {
        "id": "BtozPYEZ8n6y",
        "colab_type": "code",
        "outputId": "a49e3b3f-e55f-48ab-bd19-037c87b881d2",
        "colab": {}
      },
      "source": [
        "# Initial cost\n",
        "x_train, y_train = next_batch(x_data, BATCH_SIZE)\n",
        "print(\"Initial cost= {:.9f}\".format(\n",
        "    mean_square_fn(linear_regression, x_train, y_train)),\n",
        "    \"W=\", w_tfe.numpy(), \"b=\", b_tfe.numpy())"
      ],
      "execution_count": 0,
      "outputs": [
        {
          "output_type": "stream",
          "text": [
            "Initial cost= 301.666534424 W= 0.29334104 b= 2.6102347\n"
          ],
          "name": "stdout"
        }
      ]
    },
    {
      "cell_type": "markdown",
      "metadata": {
        "id": "k__19OUE8n61",
        "colab_type": "text"
      },
      "source": [
        "**Training**"
      ]
    },
    {
      "cell_type": "code",
      "metadata": {
        "id": "2rep3N2e8n62",
        "colab_type": "code",
        "outputId": "0daea9dd-7a2a-42b8-b315-8f42e83c2d1c",
        "colab": {}
      },
      "source": [
        "# Training\n",
        "display_step = 100\n",
        "for step in range(BATCHS):\n",
        "    \n",
        "    x_train, y_train = next_batch(x_data, BATCH_SIZE)\n",
        "    optimizer.apply_gradients(grad(linear_regression, x_train, y_train))\n",
        "\n",
        "    if (step + 1) % display_step == 0 or step == 0:\n",
        "        print(\"Epoch:\", '%04d' % (step + 1), \"cost=\",\n",
        "              \"{:.9f}\".format(mean_square_fn(linear_regression, x_train, y_train)),\n",
        "              \"W=\", w_tfe.numpy(), \"b=\", b_tfe.numpy())\n"
      ],
      "execution_count": 0,
      "outputs": [
        {
          "output_type": "stream",
          "text": [
            "Epoch: 0001 cost= 275.481536865 W= 0.42854565 b= 2.6336372\n",
            "Epoch: 0100 cost= 16.771112442 W= 4.11131 b= 3.4798746\n",
            "Epoch: 0200 cost= 16.047227859 W= 4.1926284 b= 3.7750118\n",
            "Epoch: 0300 cost= 15.135506630 W= 4.155428 b= 4.045262\n",
            "Epoch: 0400 cost= 14.601335526 W= 4.1137743 b= 4.309869\n",
            "Epoch: 0500 cost= 12.988318443 W= 4.07434 b= 4.5675364\n",
            "Epoch: 0600 cost= 13.962398529 W= 4.0381775 b= 4.8191485\n",
            "Epoch: 0700 cost= 11.749617577 W= 3.9993713 b= 5.064703\n",
            "Epoch: 0800 cost= 11.554651260 W= 3.9644341 b= 5.3054633\n",
            "Epoch: 0900 cost= 11.580221176 W= 3.928494 b= 5.5401406\n",
            "Epoch: 1000 cost= 11.125984192 W= 3.8980548 b= 5.770336\n",
            "Epoch: 1100 cost= 10.007103920 W= 3.862554 b= 5.9936194\n",
            "Epoch: 1200 cost= 9.616973877 W= 3.8300939 b= 6.2107058\n",
            "Epoch: 1300 cost= 9.293504715 W= 3.7960896 b= 6.4219265\n",
            "Epoch: 1400 cost= 9.302433968 W= 3.7648456 b= 6.6274505\n",
            "Epoch: 1500 cost= 8.918160439 W= 3.7349737 b= 6.8296146\n",
            "Epoch: 1600 cost= 8.196873665 W= 3.700922 b= 7.025527\n",
            "Epoch: 1700 cost= 8.114662170 W= 3.6736612 b= 7.217224\n",
            "Epoch: 1800 cost= 7.420712471 W= 3.646926 b= 7.405056\n",
            "Epoch: 1900 cost= 7.244167805 W= 3.6210873 b= 7.5892572\n",
            "Epoch: 2000 cost= 7.027961254 W= 3.595361 b= 7.7688875\n",
            "Epoch: 2100 cost= 6.667112827 W= 3.5663705 b= 7.94299\n",
            "Epoch: 2200 cost= 6.635849476 W= 3.5434058 b= 8.11352\n",
            "Epoch: 2300 cost= 6.271118164 W= 3.5149488 b= 8.278675\n",
            "Epoch: 2400 cost= 6.085773945 W= 3.4919684 b= 8.440779\n",
            "Epoch: 2500 cost= 5.780133724 W= 3.4696915 b= 8.599832\n",
            "Epoch: 2600 cost= 5.293220520 W= 3.4442346 b= 8.753782\n",
            "Epoch: 2700 cost= 4.847285271 W= 3.4196973 b= 8.903981\n",
            "Epoch: 2800 cost= 4.648473740 W= 3.3974876 b= 9.051678\n",
            "Epoch: 2900 cost= 4.737245083 W= 3.3806791 b= 9.197361\n",
            "Epoch: 3000 cost= 4.325105190 W= 3.3542683 b= 9.336985\n",
            "Epoch: 3100 cost= 4.441687107 W= 3.3339086 b= 9.473751\n",
            "Epoch: 3200 cost= 4.256507874 W= 3.31495 b= 9.606302\n",
            "Epoch: 3300 cost= 4.133140564 W= 3.294693 b= 9.736195\n",
            "Epoch: 3400 cost= 3.762845039 W= 3.2755926 b= 9.86446\n",
            "Epoch: 3500 cost= 3.711015701 W= 3.2582154 b= 9.988206\n",
            "Epoch: 3600 cost= 3.403789759 W= 3.2384858 b= 10.109075\n",
            "Epoch: 3700 cost= 3.416311502 W= 3.2214046 b= 10.227655\n",
            "Epoch: 3800 cost= 3.367571354 W= 3.204864 b= 10.343255\n",
            "Epoch: 3900 cost= 3.045504808 W= 3.1882067 b= 10.45586\n",
            "Epoch: 4000 cost= 3.017071247 W= 3.1692305 b= 10.565196\n",
            "Epoch: 4100 cost= 2.872391939 W= 3.153776 b= 10.671853\n",
            "Epoch: 4200 cost= 2.893660307 W= 3.1390457 b= 10.776576\n",
            "Epoch: 4300 cost= 2.697478056 W= 3.1202095 b= 10.878318\n",
            "Epoch: 4400 cost= 2.426154852 W= 3.107227 b= 10.978092\n",
            "Epoch: 4500 cost= 2.500243902 W= 3.0942423 b= 11.074939\n",
            "Epoch: 4600 cost= 2.320518017 W= 3.078808 b= 11.169363\n",
            "Epoch: 4700 cost= 2.285497665 W= 3.0669324 b= 11.26185\n",
            "Epoch: 4800 cost= 2.077934504 W= 3.0534801 b= 11.352316\n",
            "Epoch: 4900 cost= 2.126533985 W= 3.0373795 b= 11.439814\n",
            "Epoch: 5000 cost= 1.963438749 W= 3.0228853 b= 11.524724\n",
            "Epoch: 5100 cost= 1.893150449 W= 3.0125375 b= 11.609567\n",
            "Epoch: 5200 cost= 1.800761700 W= 2.999554 b= 11.69099\n",
            "Epoch: 5300 cost= 1.826110840 W= 2.9880226 b= 11.770436\n",
            "Epoch: 5400 cost= 1.718632936 W= 2.977614 b= 11.848662\n",
            "Epoch: 5500 cost= 1.741396189 W= 2.9636 b= 11.925114\n",
            "Epoch: 5600 cost= 1.685652852 W= 2.9538183 b= 11.999487\n",
            "Epoch: 5700 cost= 1.694853544 W= 2.9414043 b= 12.071367\n",
            "Epoch: 5800 cost= 1.520098925 W= 2.9319844 b= 12.142838\n",
            "Epoch: 5900 cost= 1.461071968 W= 2.91992 b= 12.211847\n",
            "Epoch: 6000 cost= 1.357613325 W= 2.9111903 b= 12.279675\n",
            "Epoch: 6100 cost= 1.475282669 W= 2.9010105 b= 12.344868\n",
            "Epoch: 6200 cost= 1.343915820 W= 2.892209 b= 12.409323\n",
            "Epoch: 6300 cost= 1.281312704 W= 2.8823316 b= 12.471721\n",
            "Epoch: 6400 cost= 1.285332322 W= 2.8736398 b= 12.532852\n",
            "Epoch: 6500 cost= 1.212053418 W= 2.8630872 b= 12.592061\n",
            "Epoch: 6600 cost= 1.218060493 W= 2.8541899 b= 12.649966\n",
            "Epoch: 6700 cost= 1.172313809 W= 2.847736 b= 12.706566\n",
            "Epoch: 6800 cost= 1.166100621 W= 2.8382943 b= 12.762114\n",
            "Epoch: 6900 cost= 1.098492861 W= 2.829959 b= 12.816151\n",
            "Epoch: 7000 cost= 1.063740015 W= 2.8225312 b= 12.868826\n",
            "Epoch: 7100 cost= 1.023402214 W= 2.8145664 b= 12.919719\n",
            "Epoch: 7200 cost= 0.982637823 W= 2.8071923 b= 12.969754\n",
            "Epoch: 7300 cost= 1.033883810 W= 2.7985566 b= 13.018748\n",
            "Epoch: 7400 cost= 0.994429886 W= 2.792207 b= 13.066607\n",
            "Epoch: 7500 cost= 0.954064608 W= 2.784292 b= 13.113034\n",
            "Epoch: 7600 cost= 0.927848518 W= 2.7786987 b= 13.158699\n",
            "Epoch: 7700 cost= 0.887622297 W= 2.7697585 b= 13.202898\n",
            "Epoch: 7800 cost= 0.881225646 W= 2.7627225 b= 13.245891\n",
            "Epoch: 7900 cost= 0.895305872 W= 2.7579055 b= 13.28829\n",
            "Epoch: 8000 cost= 0.851209164 W= 2.7529163 b= 13.3296385\n",
            "Epoch: 8100 cost= 0.745737910 W= 2.7459857 b= 13.370074\n",
            "Epoch: 8200 cost= 0.795846760 W= 2.7407546 b= 13.409106\n",
            "Epoch: 8300 cost= 0.850925267 W= 2.733101 b= 13.447238\n",
            "Epoch: 8400 cost= 0.762317002 W= 2.7285335 b= 13.484957\n",
            "Epoch: 8500 cost= 0.799837947 W= 2.7227023 b= 13.521192\n",
            "Epoch: 8600 cost= 0.793936789 W= 2.7185183 b= 13.557222\n",
            "Epoch: 8700 cost= 0.703119099 W= 2.7118874 b= 13.591786\n",
            "Epoch: 8800 cost= 0.688881338 W= 2.7092729 b= 13.626094\n",
            "Epoch: 8900 cost= 0.720998645 W= 2.7014139 b= 13.658497\n",
            "Epoch: 9000 cost= 0.728614748 W= 2.698639 b= 13.691119\n",
            "Epoch: 9100 cost= 0.673389077 W= 2.6924767 b= 13.722499\n",
            "Epoch: 9200 cost= 0.665706694 W= 2.6888242 b= 13.75342\n",
            "Epoch: 9300 cost= 0.681291282 W= 2.6839147 b= 13.783423\n",
            "Epoch: 9400 cost= 0.666010678 W= 2.678437 b= 13.812644\n",
            "Epoch: 9500 cost= 0.643584788 W= 2.6734912 b= 13.841193\n",
            "Epoch: 9600 cost= 0.676403344 W= 2.6705093 b= 13.869479\n",
            "Epoch: 9700 cost= 0.583694935 W= 2.6669464 b= 13.896692\n",
            "Epoch: 9800 cost= 0.559415162 W= 2.662542 b= 13.922997\n",
            "Epoch: 9900 cost= 0.641796768 W= 2.6587977 b= 13.94918\n",
            "Epoch: 10000 cost= 0.607424080 W= 2.654848 b= 13.974417\n"
          ],
          "name": "stdout"
        }
      ]
    },
    {
      "cell_type": "markdown",
      "metadata": {
        "id": "uyDZ4L9T8n65",
        "colab_type": "text"
      },
      "source": [
        "**Results**"
      ]
    },
    {
      "cell_type": "code",
      "metadata": {
        "id": "xV9nosR08n66",
        "colab_type": "code",
        "outputId": "021a8010-8e08-46a1-fc3a-865e6d57faf8",
        "colab": {}
      },
      "source": [
        "plt.plot(x_data[sample_indx],y_true[sample_indx],'*')\n",
        "plt.plot(x_data, w_tfe*x_data+b_tfe,'r')"
      ],
      "execution_count": 0,
      "outputs": [
        {
          "output_type": "execute_result",
          "data": {
            "text/plain": [
              "[<matplotlib.lines.Line2D at 0x1a4302d9b0>]"
            ]
          },
          "metadata": {
            "tags": []
          },
          "execution_count": 16
        },
        {
          "output_type": "display_data",
          "data": {
            "image/png": "[encoded data removed]",
            "text/plain": [
              "<Figure size 432x288 with 1 Axes>"
            ]
          },
          "metadata": {
            "tags": [],
            "needs_background": "light"
          }
        }
      ]
    },
    {
      "cell_type": "code",
      "metadata": {
        "id": "emxjDLQR8n69",
        "colab_type": "code",
        "colab": {}
      },
      "source": [
        ""
      ],
      "execution_count": 0,
      "outputs": []
    }
  ]
}