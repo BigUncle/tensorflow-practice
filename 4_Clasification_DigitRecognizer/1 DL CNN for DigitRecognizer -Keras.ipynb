{
  "nbformat": 4,
  "nbformat_minor": 0,
  "metadata": {
    "colab": {
      "name": "Copy of 1 DL CNN for DigitRecognizer -Keras.ipynb",
      "version": "0.3.2",
      "provenance": [],
      "collapsed_sections": [
        "b6I1adl5gBQD",
        "xeMZR7ntgBQI",
        "LT78eGccgBQN",
        "4RIGVSojmy-R",
        "RX5PuSUmvRri",
        "X9uiFJ-ogBRi",
        "u13ffZdjrqQf"
      ]
    },
    "kernelspec": {
      "name": "python3",
      "display_name": "Python 3"
    },
    "accelerator": "GPU"
  },
  "cells": [
    {
      "metadata": {
        "id": "LgcAAVmXgBPm",
        "colab_type": "code",
        "colab": {}
      },
      "cell_type": "code",
      "source": [
        "import pandas as pd\n",
        "import math\n",
        "import numpy as np\n",
        "import matplotlib.pyplot as plt, matplotlib.image as mpimg\n",
        "from sklearn.model_selection import train_test_split\n",
        "import tensorflow as tf\n",
        "%matplotlib inline"
      ],
      "execution_count": 0,
      "outputs": []
    },
    {
      "metadata": {
        "id": "EITzxKZRgBPy",
        "colab_type": "code",
        "colab": {}
      },
      "cell_type": "code",
      "source": [
        "from tensorflow import keras\n",
        "from tensorflow.keras import models\n",
        "from tensorflow.keras import losses,optimizers,metrics\n",
        "from tensorflow.keras import layers"
      ],
      "execution_count": 0,
      "outputs": []
    },
    {
      "metadata": {
        "id": "4PihLjAggBP1",
        "colab_type": "text"
      },
      "cell_type": "markdown",
      "source": [
        "## Data Preparation"
      ]
    },
    {
      "metadata": {
        "id": "cra90fdEsmsI",
        "colab_type": "code",
        "outputId": "e1194afa-ea1c-435e-b271-538a66630b7a",
        "colab": {
          "base_uri": "https://localhost:8080/",
          "height": 34
        }
      },
      "cell_type": "code",
      "source": [
        "from google.colab import drive \n",
        "drive.mount('/content/gdrive')"
      ],
      "execution_count": 0,
      "outputs": [
        {
          "output_type": "stream",
          "text": [
            "Drive already mounted at /content/gdrive; to attempt to forcibly remount, call drive.mount(\"/content/gdrive\", force_remount=True).\n"
          ],
          "name": "stdout"
        }
      ]
    },
    {
      "metadata": {
        "id": "K58DeQH2gBP2",
        "colab_type": "code",
        "colab": {}
      },
      "cell_type": "code",
      "source": [
        "labeled_images = pd.read_csv('gdrive/My Drive/dataML/train.csv')\n",
        "#labeled_images = pd.read_csv('train.csv')\n",
        "images = labeled_images.iloc[:,1:]\n",
        "labels = labeled_images.iloc[:,:1]\n",
        "train_images, test_images,train_labels, test_labels = train_test_split(images, labels, test_size=0.01)"
      ],
      "execution_count": 0,
      "outputs": []
    },
    {
      "metadata": {
        "id": "At9soAW0qOs4",
        "colab_type": "code",
        "outputId": "6f2a46f7-3352-4066-e33a-3f74dbede2f3",
        "colab": {
          "base_uri": "https://localhost:8080/",
          "height": 34
        }
      },
      "cell_type": "code",
      "source": [
        "train_images.shape"
      ],
      "execution_count": 0,
      "outputs": [
        {
          "output_type": "execute_result",
          "data": {
            "text/plain": [
              "(41580, 784)"
            ]
          },
          "metadata": {
            "tags": []
          },
          "execution_count": 90
        }
      ]
    },
    {
      "metadata": {
        "id": "UfkBgDM1gBP5",
        "colab_type": "text"
      },
      "cell_type": "markdown",
      "source": [
        "#### convert the data to the right type"
      ]
    },
    {
      "metadata": {
        "id": "-X3Uu-o_gBP6",
        "colab_type": "code",
        "colab": {}
      },
      "cell_type": "code",
      "source": [
        "x_train = train_images.values.reshape(train_images.shape[0],28,28,1)\n",
        "x_test = test_images.values.reshape(test_images.shape[0],28,28,1)\n",
        "y_train = train_labels.values\n",
        "y_test = test_labels.values"
      ],
      "execution_count": 0,
      "outputs": []
    },
    {
      "metadata": {
        "id": "7vboLIlsgBP9",
        "colab_type": "code",
        "outputId": "f0e0a14e-d58b-4013-d26d-cb0fe7c99874",
        "colab": {
          "base_uri": "https://localhost:8080/",
          "height": 282
        }
      },
      "cell_type": "code",
      "source": [
        "plt.imshow(x_train[12].squeeze())"
      ],
      "execution_count": 0,
      "outputs": [
        {
          "output_type": "execute_result",
          "data": {
            "text/plain": [
              "<matplotlib.image.AxesImage at 0x7f0769544710>"
            ]
          },
          "metadata": {
            "tags": []
          },
          "execution_count": 66
        },
        {
          "output_type": "display_data",
          "data": {
            "image/png": "[encoded data removed]",
            "text/plain": [
              "<Figure size 432x288 with 1 Axes>"
            ]
          },
          "metadata": {
            "tags": []
          }
        }
      ]
    },
    {
      "metadata": {
        "id": "b6I1adl5gBQD",
        "colab_type": "text"
      },
      "cell_type": "markdown",
      "source": [
        "#### convert the data to the right type"
      ]
    },
    {
      "metadata": {
        "id": "GAIvNCv6gBQE",
        "colab_type": "code",
        "outputId": "c64cb7af-1173-4d3f-861b-f3a9255024a1",
        "colab": {
          "base_uri": "https://localhost:8080/",
          "height": 88
        }
      },
      "cell_type": "code",
      "source": [
        "x_train = x_train.astype('float32')\n",
        "x_test = x_test.astype('float32')\n",
        "x_train /= 255\n",
        "x_test /= 255\n",
        "print('x_train shape:', x_train.shape)\n",
        "print(x_train.shape[0], 'train samples')\n",
        "print(x_test.shape[0], 'test samples')"
      ],
      "execution_count": 0,
      "outputs": [
        {
          "output_type": "stream",
          "text": [
            "x_train shape: (41580, 28, 28, 1)\n",
            "41580 train samples\n",
            "420 test samples\n"
          ],
          "name": "stdout"
        }
      ]
    },
    {
      "metadata": {
        "collapsed": true,
        "id": "xeMZR7ntgBQI",
        "colab_type": "text"
      },
      "cell_type": "markdown",
      "source": [
        "### convert class vectors to binary class matrices - this is for use in the\n",
        "### categorical_crossentropy loss below"
      ]
    },
    {
      "metadata": {
        "id": "8e2qjHPLgBQJ",
        "colab_type": "code",
        "colab": {}
      },
      "cell_type": "code",
      "source": [
        "y_train = keras.utils.to_categorical(y_train)\n",
        "y_test = keras.utils.to_categorical(y_test)"
      ],
      "execution_count": 0,
      "outputs": []
    },
    {
      "metadata": {
        "id": "LT78eGccgBQN",
        "colab_type": "text"
      },
      "cell_type": "markdown",
      "source": [
        "## Creating the Model with Keras\n"
      ]
    },
    {
      "metadata": {
        "id": "TsiSQtSqgBQO",
        "colab_type": "code",
        "outputId": "3127481f-edad-4bd9-ea0f-ace4d20da275",
        "colab": {
          "base_uri": "https://localhost:8080/",
          "height": 408
        }
      },
      "cell_type": "code",
      "source": [
        "model = models.Sequential()\n",
        "\n",
        "model.add(layers.Conv2D(filters=32,kernel_size=(6,6),strides=(1,1),\n",
        "                        padding=\"same\", \n",
        "                        activation='relu',input_shape=(28,28,1)))\n",
        "model.add(layers.MaxPool2D(pool_size=(2,2),strides=(2,2),padding='same'))\n",
        "model.add(layers.Conv2D(filters=64,kernel_size=(6,6),strides=(1,1),\n",
        "                        padding=\"same\", activation='relu'))\n",
        "model.add(layers.MaxPool2D(pool_size=(2,2),strides=(2,2),padding='same'))\n",
        "model.add(layers.Flatten())\n",
        "model.add(layers.Dense(units=1024,activation='relu'))\n",
        "model.add(layers.Dropout(rate=0.5))\n",
        "model.add(layers.Dense(units=10,activation='softmax'))\n",
        "model.summary()"
      ],
      "execution_count": 0,
      "outputs": [
        {
          "output_type": "stream",
          "text": [
            "_________________________________________________________________\n",
            "Layer (type)                 Output Shape              Param #   \n",
            "=================================================================\n",
            "conv2d_4 (Conv2D)            (None, 28, 28, 32)        1184      \n",
            "_________________________________________________________________\n",
            "max_pooling2d_4 (MaxPooling2 (None, 14, 14, 32)        0         \n",
            "_________________________________________________________________\n",
            "conv2d_5 (Conv2D)            (None, 14, 14, 64)        73792     \n",
            "_________________________________________________________________\n",
            "max_pooling2d_5 (MaxPooling2 (None, 7, 7, 64)          0         \n",
            "_________________________________________________________________\n",
            "flatten_2 (Flatten)          (None, 3136)              0         \n",
            "_________________________________________________________________\n",
            "dense_4 (Dense)              (None, 1024)              3212288   \n",
            "_________________________________________________________________\n",
            "dropout_2 (Dropout)          (None, 1024)              0         \n",
            "_________________________________________________________________\n",
            "dense_5 (Dense)              (None, 10)                10250     \n",
            "=================================================================\n",
            "Total params: 3,297,514\n",
            "Trainable params: 3,297,514\n",
            "Non-trainable params: 0\n",
            "_________________________________________________________________\n"
          ],
          "name": "stdout"
        }
      ]
    },
    {
      "metadata": {
        "id": "BLdOV8vYgBQS",
        "colab_type": "code",
        "colab": {}
      },
      "cell_type": "code",
      "source": [
        "model.compile(loss=keras.losses.categorical_crossentropy, \n",
        "              optimizer=keras.optimizers.Adam(0.0001), \n",
        "              metrics=['accuracy'])"
      ],
      "execution_count": 0,
      "outputs": []
    },
    {
      "metadata": {
        "id": "pxI5Gi4xgBQV",
        "colab_type": "code",
        "colab": {}
      },
      "cell_type": "code",
      "source": [
        "H = model.fit(x_train, y_train,\n",
        "          batch_size=100,\n",
        "          epochs=50,\n",
        "          verbose=1,\n",
        "          validation_data=(x_test, y_test))"
      ],
      "execution_count": 0,
      "outputs": []
    },
    {
      "metadata": {
        "id": "CHDGYz_Mki4G",
        "colab_type": "code",
        "outputId": "ab918f8e-3d4b-49ec-dbb3-80da35b54a80",
        "colab": {
          "base_uri": "https://localhost:8080/",
          "height": 34
        }
      },
      "cell_type": "code",
      "source": [
        "H.history.keys()"
      ],
      "execution_count": 0,
      "outputs": [
        {
          "output_type": "execute_result",
          "data": {
            "text/plain": [
              "dict_keys(['loss', 'acc', 'val_loss', 'val_acc'])"
            ]
          },
          "metadata": {
            "tags": []
          },
          "execution_count": 50
        }
      ]
    },
    {
      "metadata": {
        "id": "G1s_nCBWk-91",
        "colab_type": "code",
        "outputId": "5010e90a-afc3-4b6a-b65e-ad93df43ccb3",
        "colab": {
          "base_uri": "https://localhost:8080/",
          "height": 282
        }
      },
      "cell_type": "code",
      "source": [
        "plt.plot(H.history['acc'])\n",
        "plt.plot(H.history['val_acc'],'r')"
      ],
      "execution_count": 0,
      "outputs": [
        {
          "output_type": "execute_result",
          "data": {
            "text/plain": [
              "[<matplotlib.lines.Line2D at 0x7f838f5b7a58>]"
            ]
          },
          "metadata": {
            "tags": []
          },
          "execution_count": 51
        },
        {
          "output_type": "display_data",
          "data": {
            "image/png": "[encoded data removed]",
            "text/plain": [
              "<Figure size 432x288 with 1 Axes>"
            ]
          },
          "metadata": {
            "tags": []
          }
        }
      ]
    },
    {
      "metadata": {
        "id": "-AGE67k2lGxL",
        "colab_type": "code",
        "outputId": "2fdf53da-5446-4f12-e846-0d3f14dd4331",
        "colab": {
          "base_uri": "https://localhost:8080/",
          "height": 283
        }
      },
      "cell_type": "code",
      "source": [
        "plt.plot(H.history['loss'])\n",
        "plt.plot(H.history['val_loss'],'r')"
      ],
      "execution_count": 0,
      "outputs": [
        {
          "output_type": "execute_result",
          "data": {
            "text/plain": [
              "[<matplotlib.lines.Line2D at 0x7f838f556f60>]"
            ]
          },
          "metadata": {
            "tags": []
          },
          "execution_count": 52
        },
        {
          "output_type": "display_data",
          "data": {
            "image/png": "[encoded data removed]",
            "text/plain": [
              "<Figure size 432x288 with 1 Axes>"
            ]
          },
          "metadata": {
            "tags": []
          }
        }
      ]
    },
    {
      "metadata": {
        "id": "4RIGVSojmy-R",
        "colab_type": "text"
      },
      "cell_type": "markdown",
      "source": [
        "## Predict"
      ]
    },
    {
      "metadata": {
        "id": "tnigE74rm39a",
        "colab_type": "code",
        "colab": {}
      },
      "cell_type": "code",
      "source": [
        "unlabeled_images_test = pd.read_csv('gdrive/My Drive/dataML/test.csv')\n",
        "#unlabeled_images_test = pd.read_csv('test.csv')"
      ],
      "execution_count": 0,
      "outputs": []
    },
    {
      "metadata": {
        "id": "3Fotf1KrpXVE",
        "colab_type": "code",
        "colab": {}
      },
      "cell_type": "code",
      "source": [
        "X_unlabeled = unlabeled_images_test.values.reshape(unlabeled_images_test.shape[0],28,28,1)/255"
      ],
      "execution_count": 0,
      "outputs": []
    },
    {
      "metadata": {
        "id": "jeRnCHzdutQ0",
        "colab_type": "code",
        "colab": {}
      },
      "cell_type": "code",
      "source": [
        "y_pred = model.predict(X_unlabeled)"
      ],
      "execution_count": 0,
      "outputs": []
    },
    {
      "metadata": {
        "id": "3M_fePteu-3X",
        "colab_type": "code",
        "colab": {}
      },
      "cell_type": "code",
      "source": [
        "y_label = np.argmax(y_pred, axis=1)"
      ],
      "execution_count": 0,
      "outputs": []
    },
    {
      "metadata": {
        "id": "RX5PuSUmvRri",
        "colab_type": "text"
      },
      "cell_type": "markdown",
      "source": [
        "## Save csv"
      ]
    },
    {
      "metadata": {
        "id": "zU5Q1fSRvVbn",
        "colab_type": "code",
        "outputId": "012d7e31-5d42-45e8-95ed-cf09b2b6f45c",
        "colab": {
          "base_uri": "https://localhost:8080/",
          "height": 198
        }
      },
      "cell_type": "code",
      "source": [
        "imageId = np.arange(1,y_label.shape[0]+1).tolist()\n",
        "prediction_pd = pd.DataFrame({'ImageId':imageId, 'Label':y_label})\n",
        "prediction_pd.to_csv('gdrive/My Drive/dataML/out_cnn3.csv',sep = ',', index = False)"
      ],
      "execution_count": 0,
      "outputs": [
        {
          "output_type": "error",
          "ename": "NameError",
          "evalue": "ignored",
          "traceback": [
            "\u001b[0;31m---------------------------------------------------------------------------\u001b[0m",
            "\u001b[0;31mNameError\u001b[0m                                 Traceback (most recent call last)",
            "\u001b[0;32m<ipython-input-7-2e732bb49087>\u001b[0m in \u001b[0;36m<module>\u001b[0;34m()\u001b[0m\n\u001b[0;32m----> 1\u001b[0;31m \u001b[0mimageId\u001b[0m \u001b[0;34m=\u001b[0m \u001b[0mnp\u001b[0m\u001b[0;34m.\u001b[0m\u001b[0marange\u001b[0m\u001b[0;34m(\u001b[0m\u001b[0;36m1\u001b[0m\u001b[0;34m,\u001b[0m\u001b[0my_label\u001b[0m\u001b[0;34m.\u001b[0m\u001b[0mshape\u001b[0m\u001b[0;34m[\u001b[0m\u001b[0;36m0\u001b[0m\u001b[0;34m]\u001b[0m\u001b[0;34m+\u001b[0m\u001b[0;36m1\u001b[0m\u001b[0;34m)\u001b[0m\u001b[0;34m.\u001b[0m\u001b[0mtolist\u001b[0m\u001b[0;34m(\u001b[0m\u001b[0;34m)\u001b[0m\u001b[0;34m\u001b[0m\u001b[0;34m\u001b[0m\u001b[0m\n\u001b[0m\u001b[1;32m      2\u001b[0m \u001b[0mprediction_pd\u001b[0m \u001b[0;34m=\u001b[0m \u001b[0mpd\u001b[0m\u001b[0;34m.\u001b[0m\u001b[0mDataFrame\u001b[0m\u001b[0;34m(\u001b[0m\u001b[0;34m{\u001b[0m\u001b[0;34m'ImageId'\u001b[0m\u001b[0;34m:\u001b[0m\u001b[0mimageId\u001b[0m\u001b[0;34m,\u001b[0m \u001b[0;34m'Label'\u001b[0m\u001b[0;34m:\u001b[0m\u001b[0my_label\u001b[0m\u001b[0;34m}\u001b[0m\u001b[0;34m)\u001b[0m\u001b[0;34m\u001b[0m\u001b[0;34m\u001b[0m\u001b[0m\n\u001b[1;32m      3\u001b[0m \u001b[0mprediction_pd\u001b[0m\u001b[0;34m.\u001b[0m\u001b[0mto_csv\u001b[0m\u001b[0;34m(\u001b[0m\u001b[0;34m'gdrive/My Drive/dataML/out_cnn3.csv'\u001b[0m\u001b[0;34m,\u001b[0m\u001b[0msep\u001b[0m \u001b[0;34m=\u001b[0m \u001b[0;34m','\u001b[0m\u001b[0;34m,\u001b[0m \u001b[0mindex\u001b[0m \u001b[0;34m=\u001b[0m \u001b[0;32mFalse\u001b[0m\u001b[0;34m)\u001b[0m\u001b[0;34m\u001b[0m\u001b[0;34m\u001b[0m\u001b[0m\n",
            "\u001b[0;31mNameError\u001b[0m: name 'y_label' is not defined"
          ]
        }
      ]
    },
    {
      "metadata": {
        "id": "_qetEX7AgBQY",
        "colab_type": "text"
      },
      "cell_type": "markdown",
      "source": [
        "# Tensorflow"
      ]
    },
    {
      "metadata": {
        "id": "4keUL7d0gBQZ",
        "colab_type": "text"
      },
      "cell_type": "markdown",
      "source": [
        "### Helper functions for batch learning"
      ]
    },
    {
      "metadata": {
        "id": "czdbjPfcgBQd",
        "colab_type": "code",
        "colab": {}
      },
      "cell_type": "code",
      "source": [
        "def one_hot_encode(vec, vals=10):\n",
        "    '''\n",
        "    For use to one-hot encode the 10- possible labels\n",
        "    '''\n",
        "    n = len(vec)\n",
        "    out = np.zeros((n, vals))\n",
        "    out[range(n), vec] = 1\n",
        "    return out"
      ],
      "execution_count": 0,
      "outputs": []
    },
    {
      "metadata": {
        "id": "Afc2XmK2gBQh",
        "colab_type": "code",
        "colab": {}
      },
      "cell_type": "code",
      "source": [
        "class CifarHelper():\n",
        "    \n",
        "    def __init__(self):\n",
        "        self.i = 0\n",
        "        \n",
        "        # Intialize some empty variables for later on\n",
        "        self.training_images = None\n",
        "        self.training_labels = None\n",
        "        \n",
        "        self.test_images = None\n",
        "        self.test_labels = None\n",
        "    \n",
        "    def set_up_images(self):\n",
        "        \n",
        "        print(\"Setting Up Training Images and Labels\")\n",
        "        \n",
        "        # Vertically stacks the training images\n",
        "        self.training_images = train_images.as_matrix()\n",
        "        train_len = self.training_images.shape[0]\n",
        "        \n",
        "        # Reshapes and normalizes training images\n",
        "        self.training_images = self.training_images.reshape(train_len,28,28,1)/255\n",
        "        # One hot Encodes the training labels (e.g. [0,0,0,1,0,0,0,0,0,0])\n",
        "        self.training_labels = one_hot_encode(train_labels.as_matrix().reshape(-1), 10)\n",
        "        \n",
        "        print(\"Setting Up Test Images and Labels\")\n",
        "        \n",
        "        # Vertically stacks the test images\n",
        "        self.test_images = test_images.as_matrix()\n",
        "        test_len = self.test_images.shape[0]\n",
        "        \n",
        "        # Reshapes and normalizes test images\n",
        "        self.test_images = self.test_images.reshape(test_len,28,28,1)/255\n",
        "        # One hot Encodes the test labels (e.g. [0,0,0,1,0,0,0,0,0,0])\n",
        "        self.test_labels = one_hot_encode(test_labels.as_matrix().reshape(-1), 10)\n",
        "\n",
        "        \n",
        "    def next_batch(self, batch_size):\n",
        "        # Note that the 100 dimension in the reshape call is set by an assumed batch size of 100\n",
        "        x = self.training_images[self.i:self.i+batch_size]\n",
        "        y = self.training_labels[self.i:self.i+batch_size]\n",
        "        self.i = (self.i + batch_size) % len(self.training_images)\n",
        "        return x, y"
      ],
      "execution_count": 0,
      "outputs": []
    },
    {
      "metadata": {
        "id": "1qAiPT1-gBQp",
        "colab_type": "code",
        "outputId": "ed204837-6203-4436-b277-409fadc487c5",
        "colab": {
          "base_uri": "https://localhost:8080/",
          "height": 51
        }
      },
      "cell_type": "code",
      "source": [
        "# Before Your tf.Session run these two lines\n",
        "ch = CifarHelper()\n",
        "ch.set_up_images()\n",
        "\n",
        "# During your session to grab the next batch use this line\n",
        "# (Just like we did for mnist.train.next_batch)\n",
        "# batch = ch.next_batch(100)"
      ],
      "execution_count": 0,
      "outputs": [
        {
          "output_type": "stream",
          "text": [
            "Setting Up Training Images and Labels\n",
            "Setting Up Test Images and Labels\n"
          ],
          "name": "stdout"
        }
      ]
    },
    {
      "metadata": {
        "id": "QUkUv8sKgBQw",
        "colab_type": "text"
      },
      "cell_type": "markdown",
      "source": [
        "## Creating the Model\n",
        "\n"
      ]
    },
    {
      "metadata": {
        "id": "l1XSMzIpgBQx",
        "colab_type": "text"
      },
      "cell_type": "markdown",
      "source": [
        "** Create 2 placeholders, x and y_true. Their shapes should be: **\n",
        "\n",
        "* x shape = [None,28,28,1]\n",
        "* y_true shape = [None,10]\n",
        "\n",
        "** Create one more placeholder called hold_rate. No need for shape here. This placeholder will just hold a single probability for the dropout. **"
      ]
    },
    {
      "metadata": {
        "id": "8Y_4DDQvgBQz",
        "colab_type": "code",
        "colab": {}
      },
      "cell_type": "code",
      "source": [
        "x = tf.placeholder(tf.float32, shape=[None,28,28,1])\n",
        "y_true = tf.placeholder(tf.float32, shape=[None,10])\n",
        "hold_rate = tf.placeholder(tf.float32)"
      ],
      "execution_count": 0,
      "outputs": []
    },
    {
      "metadata": {
        "id": "7oP9cPk4gBQ2",
        "colab_type": "text"
      },
      "cell_type": "markdown",
      "source": [
        "### Helper Functions\n",
        "\n",
        "** Grab the helper functions from MNIST with CNN (or recreate them here yourself for a hard challenge!). You'll need: **\n",
        "\n",
        "* init_weights\n",
        "* init_bias\n",
        "* conv2d\n",
        "* max_pool_2by2\n",
        "* convolutional_layer\n",
        "* normal_full_layer"
      ]
    },
    {
      "metadata": {
        "id": "NZNfr2JjgBQ3",
        "colab_type": "code",
        "colab": {}
      },
      "cell_type": "code",
      "source": [
        "def init_weights(shape):\n",
        "    init_random_dist = tf.truncated_normal(shape, stddev=0.1)\n",
        "    return tf.Variable(init_random_dist)\n",
        "\n",
        "def init_bias(shape):\n",
        "    init_bias_vals = tf.constant(0.1, shape=shape)\n",
        "    return tf.Variable(init_bias_vals)\n",
        "\n",
        "def conv2d(x, W):\n",
        "    return tf.nn.conv2d(x, W, strides=[1, 1, 1, 1], padding='SAME')\n",
        "\n",
        "# x -->[batch, in_height, in_width, in_channels]\n",
        "# W --> [filter_height, filter_width, in_channels, out_channels]\n",
        "\n",
        "def max_pool_2by2(x):\n",
        "    return tf.nn.max_pool(x, ksize=[1, 2, 2, 1],\n",
        "                          strides=[1, 2, 2, 1], padding='SAME')\n",
        "def convolutional_layer(input_x, shape):\n",
        "    W = init_weights(shape)\n",
        "    b = init_bias([shape[3]])\n",
        "    return tf.nn.relu(conv2d(input_x, W) + b)\n",
        "\n",
        "def normal_full_layer(input_layer, size):\n",
        "    input_size = int(input_layer.get_shape()[1])\n",
        "    W = init_weights([input_size, size])\n",
        "    b = init_bias([size])\n",
        "    return tf.matmul(input_layer, W) + b"
      ],
      "execution_count": 0,
      "outputs": []
    },
    {
      "metadata": {
        "id": "8IvozQVkgBQ5",
        "colab_type": "text"
      },
      "cell_type": "markdown",
      "source": [
        "### Create the Layers\n",
        "\n"
      ]
    },
    {
      "metadata": {
        "id": "iC0xMN4pgBQ6",
        "colab_type": "code",
        "colab": {}
      },
      "cell_type": "code",
      "source": [
        "convo_1 = convolutional_layer(x,shape=[6,6,1,32])\n",
        "convo_1_pooling = max_pool_2by2(convo_1)"
      ],
      "execution_count": 0,
      "outputs": []
    },
    {
      "metadata": {
        "id": "LA4Ho_sGgBQ8",
        "colab_type": "code",
        "colab": {}
      },
      "cell_type": "code",
      "source": [
        "convo_2 = convolutional_layer(convo_1_pooling,shape=[6,6,32,64])\n",
        "convo_2_pooling = max_pool_2by2(convo_2)"
      ],
      "execution_count": 0,
      "outputs": []
    },
    {
      "metadata": {
        "id": "1jkM0KsegBQ_",
        "colab_type": "code",
        "colab": {}
      },
      "cell_type": "code",
      "source": [
        "convo_2_flat = tf.reshape(convo_2_pooling,[-1,7*7*64])\n",
        "full_layer_one = tf.nn.relu(normal_full_layer(convo_2_flat,1024))"
      ],
      "execution_count": 0,
      "outputs": []
    },
    {
      "metadata": {
        "id": "b_nkIdaogBRB",
        "colab_type": "code",
        "colab": {}
      },
      "cell_type": "code",
      "source": [
        "full_one_dropout = tf.nn.dropout(full_layer_one,rate=hold_rate)"
      ],
      "execution_count": 0,
      "outputs": []
    },
    {
      "metadata": {
        "id": "uhl1VK5_gBRE",
        "colab_type": "code",
        "colab": {}
      },
      "cell_type": "code",
      "source": [
        "y_pred = normal_full_layer(full_one_dropout,10)"
      ],
      "execution_count": 0,
      "outputs": []
    },
    {
      "metadata": {
        "id": "tT4TvNz-gBRI",
        "colab_type": "text"
      },
      "cell_type": "markdown",
      "source": [
        "### Loss Function"
      ]
    },
    {
      "metadata": {
        "id": "wkqQ5GurgBRJ",
        "colab_type": "code",
        "colab": {}
      },
      "cell_type": "code",
      "source": [
        "#cross_entropy = tf.reduce_mean(tf.nn.softmax_cross_entropy_with_logits_v2(labels=y_true,logits=y_pred))\n",
        "cross_entropy = tf.losses.softmax_cross_entropy(onehot_labels = y_true, logits = y_pred)"
      ],
      "execution_count": 0,
      "outputs": []
    },
    {
      "metadata": {
        "id": "jmnEUVWxgBRM",
        "colab_type": "text"
      },
      "cell_type": "markdown",
      "source": [
        "### Optimizer"
      ]
    },
    {
      "metadata": {
        "id": "MoyIlzCagBRN",
        "colab_type": "code",
        "colab": {}
      },
      "cell_type": "code",
      "source": [
        "optimizer = tf.train.AdamOptimizer(learning_rate=0.00002)\n",
        "train = optimizer.minimize(cross_entropy)"
      ],
      "execution_count": 0,
      "outputs": []
    },
    {
      "metadata": {
        "id": "47rAzeVNgBRP",
        "colab_type": "text"
      },
      "cell_type": "markdown",
      "source": [
        "### Intialize Variables"
      ]
    },
    {
      "metadata": {
        "id": "7WG1AszIgBRQ",
        "colab_type": "code",
        "colab": {}
      },
      "cell_type": "code",
      "source": [
        "init = tf.global_variables_initializer()"
      ],
      "execution_count": 0,
      "outputs": []
    },
    {
      "metadata": {
        "id": "rseSYLjggBRb",
        "colab_type": "text"
      },
      "cell_type": "markdown",
      "source": [
        "### Saving the Model"
      ]
    },
    {
      "metadata": {
        "id": "OwdUgOG4gBRc",
        "colab_type": "code",
        "colab": {}
      },
      "cell_type": "code",
      "source": [
        "saver = tf.train.Saver()"
      ],
      "execution_count": 0,
      "outputs": []
    },
    {
      "metadata": {
        "id": "xGdHTpE0gBRe",
        "colab_type": "text"
      },
      "cell_type": "markdown",
      "source": [
        "## Graph Session\n",
        "\n",
        "** Perform the training and test print outs in a Tf session and run your model! **"
      ]
    },
    {
      "metadata": {
        "id": "pQHEYbyZgBRf",
        "colab_type": "code",
        "outputId": "b69980c2-a803-4f00-c446-ec87790f7422",
        "colab": {
          "base_uri": "https://localhost:8080/",
          "height": 5117
        }
      },
      "cell_type": "code",
      "source": [
        "history = {'acc_train':list(),'acc_val':list(),\n",
        "           'loss_train':list(),'loss_val':list()}\n",
        "with tf.Session() as sess:\n",
        "    sess.run(tf.global_variables_initializer())\n",
        "    \n",
        "    for i in range(10000):\n",
        "        batch = ch.next_batch(100)\n",
        "        sess.run(train, feed_dict={x: batch[0], y_true: batch[1], hold_rate: 0.5})\n",
        "        \n",
        "        # PRINT OUT A MESSAGE EVERY 100 STEPS\n",
        "        if i%100 == 0:\n",
        "            \n",
        "            # Test the Train Model\n",
        "            matches = tf.equal(tf.argmax(y_pred,1),tf.argmax(y_true,1))\n",
        "            \n",
        "            feed_dict_train = {x: batch[0], y_true: batch[1], hold_rate:0}\n",
        "            feed_dict_val = {x:ch.test_images, y_true:ch.test_labels, hold_rate:0}\n",
        "\n",
        "            acc = tf.reduce_mean(tf.cast(matches,tf.float32))\n",
        "            history['acc_train'].append(sess.run(acc, feed_dict = feed_dict_train))\n",
        "            history['acc_val'].append(sess.run(acc, feed_dict = feed_dict_val))\n",
        "\n",
        "            history['loss_train'].append(sess.run(cross_entropy, feed_dict = feed_dict_train))\n",
        "            history['loss_val'].append(sess.run(cross_entropy, feed_dict = feed_dict_val))\n",
        "            \n",
        "            print(\"Iteration {}:\\tloss_train={:.6f}:\\tloss_val={:.6f}:\\tacc_train={:.6f}:\\tacc_val={:.6f}\"\n",
        "                  .format(i,history['loss_train'][-1],history['loss_val'][-1],history['acc_train'][-1],history['acc_val'][-1]))\n",
        "            \n",
        "            print('\\n')\n",
        "        \n",
        "    saver.save(sess,'models_saving/my_model.ckpt')"
      ],
      "execution_count": 0,
      "outputs": [
        {
          "output_type": "stream",
          "text": [
            "Iteration 0:\tloss_train=9.955038:\tloss_val=9.892747:\tacc_train=0.080000:\tacc_val=0.064286\n",
            "\n",
            "\n",
            "Iteration 100:\tloss_train=1.393851:\tloss_val=1.341649:\tacc_train=0.570000:\tacc_val=0.573810\n",
            "\n",
            "\n",
            "Iteration 200:\tloss_train=0.603045:\tloss_val=0.658347:\tacc_train=0.780000:\tacc_val=0.788095\n",
            "\n",
            "\n",
            "Iteration 300:\tloss_train=0.351420:\tloss_val=0.452447:\tacc_train=0.870000:\tacc_val=0.840476\n",
            "\n",
            "\n",
            "Iteration 400:\tloss_train=0.315513:\tloss_val=0.356125:\tacc_train=0.890000:\tacc_val=0.869048\n",
            "\n",
            "\n",
            "Iteration 500:\tloss_train=0.456678:\tloss_val=0.303237:\tacc_train=0.840000:\tacc_val=0.900000\n",
            "\n",
            "\n",
            "Iteration 600:\tloss_train=0.365461:\tloss_val=0.264532:\tacc_train=0.880000:\tacc_val=0.928571\n",
            "\n",
            "\n",
            "Iteration 700:\tloss_train=0.240603:\tloss_val=0.237371:\tacc_train=0.920000:\tacc_val=0.938095\n",
            "\n",
            "\n",
            "Iteration 800:\tloss_train=0.259049:\tloss_val=0.220457:\tacc_train=0.910000:\tacc_val=0.938095\n",
            "\n",
            "\n",
            "Iteration 900:\tloss_train=0.167229:\tloss_val=0.207158:\tacc_train=0.930000:\tacc_val=0.945238\n",
            "\n",
            "\n",
            "Iteration 1000:\tloss_train=0.244950:\tloss_val=0.196606:\tacc_train=0.920000:\tacc_val=0.945238\n",
            "\n",
            "\n",
            "Iteration 1100:\tloss_train=0.266611:\tloss_val=0.191591:\tacc_train=0.910000:\tacc_val=0.947619\n",
            "\n",
            "\n",
            "Iteration 1200:\tloss_train=0.179800:\tloss_val=0.188048:\tacc_train=0.950000:\tacc_val=0.945238\n",
            "\n",
            "\n",
            "Iteration 1300:\tloss_train=0.136228:\tloss_val=0.179132:\tacc_train=0.970000:\tacc_val=0.945238\n",
            "\n",
            "\n",
            "Iteration 1400:\tloss_train=0.204691:\tloss_val=0.172199:\tacc_train=0.920000:\tacc_val=0.954762\n",
            "\n",
            "\n",
            "Iteration 1500:\tloss_train=0.234340:\tloss_val=0.174418:\tacc_train=0.910000:\tacc_val=0.947619\n",
            "\n",
            "\n",
            "Iteration 1600:\tloss_train=0.144560:\tloss_val=0.168199:\tacc_train=0.970000:\tacc_val=0.947619\n",
            "\n",
            "\n",
            "Iteration 1700:\tloss_train=0.168366:\tloss_val=0.163489:\tacc_train=0.950000:\tacc_val=0.952381\n",
            "\n",
            "\n",
            "Iteration 1800:\tloss_train=0.091047:\tloss_val=0.154951:\tacc_train=0.960000:\tacc_val=0.957143\n",
            "\n",
            "\n",
            "Iteration 1900:\tloss_train=0.129901:\tloss_val=0.154894:\tacc_train=0.960000:\tacc_val=0.954762\n",
            "\n",
            "\n",
            "Iteration 2000:\tloss_train=0.187322:\tloss_val=0.151541:\tacc_train=0.930000:\tacc_val=0.961905\n",
            "\n",
            "\n",
            "Iteration 2100:\tloss_train=0.125465:\tloss_val=0.153478:\tacc_train=0.950000:\tacc_val=0.959524\n",
            "\n",
            "\n",
            "Iteration 2200:\tloss_train=0.177952:\tloss_val=0.146326:\tacc_train=0.950000:\tacc_val=0.961905\n",
            "\n",
            "\n",
            "Iteration 2300:\tloss_train=0.110211:\tloss_val=0.139980:\tacc_train=0.970000:\tacc_val=0.961905\n",
            "\n",
            "\n",
            "Iteration 2400:\tloss_train=0.136337:\tloss_val=0.140079:\tacc_train=0.980000:\tacc_val=0.959524\n",
            "\n",
            "\n",
            "Iteration 2500:\tloss_train=0.208419:\tloss_val=0.135359:\tacc_train=0.940000:\tacc_val=0.954762\n",
            "\n",
            "\n",
            "Iteration 2600:\tloss_train=0.184689:\tloss_val=0.128444:\tacc_train=0.920000:\tacc_val=0.957143\n",
            "\n",
            "\n",
            "Iteration 2700:\tloss_train=0.130259:\tloss_val=0.126130:\tacc_train=0.960000:\tacc_val=0.961905\n",
            "\n",
            "\n",
            "Iteration 2800:\tloss_train=0.045392:\tloss_val=0.124808:\tacc_train=0.980000:\tacc_val=0.964286\n",
            "\n",
            "\n",
            "Iteration 2900:\tloss_train=0.183124:\tloss_val=0.122534:\tacc_train=0.960000:\tacc_val=0.959524\n",
            "\n",
            "\n",
            "Iteration 3000:\tloss_train=0.088887:\tloss_val=0.121338:\tacc_train=0.960000:\tacc_val=0.961905\n",
            "\n",
            "\n",
            "Iteration 3100:\tloss_train=0.222837:\tloss_val=0.119882:\tacc_train=0.950000:\tacc_val=0.964286\n",
            "\n",
            "\n",
            "Iteration 3200:\tloss_train=0.086788:\tloss_val=0.114110:\tacc_train=0.970000:\tacc_val=0.966667\n",
            "\n",
            "\n",
            "Iteration 3300:\tloss_train=0.086516:\tloss_val=0.116179:\tacc_train=0.980000:\tacc_val=0.961905\n",
            "\n",
            "\n",
            "Iteration 3400:\tloss_train=0.051683:\tloss_val=0.112654:\tacc_train=0.990000:\tacc_val=0.966667\n",
            "\n",
            "\n",
            "Iteration 3500:\tloss_train=0.062123:\tloss_val=0.111671:\tacc_train=0.990000:\tacc_val=0.964286\n",
            "\n",
            "\n",
            "Iteration 3600:\tloss_train=0.059821:\tloss_val=0.109408:\tacc_train=0.980000:\tacc_val=0.969048\n",
            "\n",
            "\n",
            "Iteration 3700:\tloss_train=0.058398:\tloss_val=0.110439:\tacc_train=0.980000:\tacc_val=0.969048\n",
            "\n",
            "\n",
            "Iteration 3800:\tloss_train=0.073170:\tloss_val=0.110551:\tacc_train=0.980000:\tacc_val=0.966667\n",
            "\n",
            "\n",
            "Iteration 3900:\tloss_train=0.073479:\tloss_val=0.105942:\tacc_train=0.970000:\tacc_val=0.966667\n",
            "\n",
            "\n",
            "Iteration 4000:\tloss_train=0.151917:\tloss_val=0.106244:\tacc_train=0.950000:\tacc_val=0.966667\n",
            "\n",
            "\n",
            "Iteration 4100:\tloss_train=0.067023:\tloss_val=0.105602:\tacc_train=0.980000:\tacc_val=0.969048\n",
            "\n",
            "\n",
            "Iteration 4200:\tloss_train=0.085749:\tloss_val=0.107034:\tacc_train=0.980000:\tacc_val=0.969048\n",
            "\n",
            "\n",
            "Iteration 4300:\tloss_train=0.060797:\tloss_val=0.098652:\tacc_train=0.980000:\tacc_val=0.969048\n",
            "\n",
            "\n",
            "Iteration 4400:\tloss_train=0.118934:\tloss_val=0.098372:\tacc_train=0.950000:\tacc_val=0.969048\n",
            "\n",
            "\n",
            "Iteration 4500:\tloss_train=0.089732:\tloss_val=0.099926:\tacc_train=0.970000:\tacc_val=0.969048\n",
            "\n",
            "\n",
            "Iteration 4600:\tloss_train=0.155587:\tloss_val=0.098183:\tacc_train=0.940000:\tacc_val=0.969048\n",
            "\n",
            "\n",
            "Iteration 4700:\tloss_train=0.101318:\tloss_val=0.094189:\tacc_train=0.980000:\tacc_val=0.971429\n",
            "\n",
            "\n",
            "Iteration 4800:\tloss_train=0.061409:\tloss_val=0.095649:\tacc_train=0.970000:\tacc_val=0.969048\n",
            "\n",
            "\n",
            "Iteration 4900:\tloss_train=0.044424:\tloss_val=0.099375:\tacc_train=0.990000:\tacc_val=0.969048\n",
            "\n",
            "\n",
            "Iteration 5000:\tloss_train=0.079037:\tloss_val=0.094581:\tacc_train=0.970000:\tacc_val=0.971429\n",
            "\n",
            "\n",
            "Iteration 5100:\tloss_train=0.093324:\tloss_val=0.084532:\tacc_train=0.990000:\tacc_val=0.973810\n",
            "\n",
            "\n",
            "Iteration 5200:\tloss_train=0.036492:\tloss_val=0.087976:\tacc_train=0.980000:\tacc_val=0.971429\n",
            "\n",
            "\n",
            "Iteration 5300:\tloss_train=0.018212:\tloss_val=0.089220:\tacc_train=1.000000:\tacc_val=0.969048\n",
            "\n",
            "\n",
            "Iteration 5400:\tloss_train=0.139619:\tloss_val=0.084620:\tacc_train=0.970000:\tacc_val=0.971429\n",
            "\n",
            "\n",
            "Iteration 5500:\tloss_train=0.079545:\tloss_val=0.083242:\tacc_train=0.990000:\tacc_val=0.971429\n",
            "\n",
            "\n",
            "Iteration 5600:\tloss_train=0.026315:\tloss_val=0.081128:\tacc_train=1.000000:\tacc_val=0.971429\n",
            "\n",
            "\n",
            "Iteration 5700:\tloss_train=0.086934:\tloss_val=0.080166:\tacc_train=0.970000:\tacc_val=0.973810\n",
            "\n",
            "\n",
            "Iteration 5800:\tloss_train=0.028064:\tloss_val=0.083618:\tacc_train=1.000000:\tacc_val=0.969048\n",
            "\n",
            "\n",
            "Iteration 5900:\tloss_train=0.007041:\tloss_val=0.078657:\tacc_train=1.000000:\tacc_val=0.971429\n",
            "\n",
            "\n",
            "Iteration 6000:\tloss_train=0.033556:\tloss_val=0.077750:\tacc_train=0.990000:\tacc_val=0.973810\n",
            "\n",
            "\n",
            "Iteration 6100:\tloss_train=0.036973:\tloss_val=0.080691:\tacc_train=0.990000:\tacc_val=0.971429\n",
            "\n",
            "\n",
            "Iteration 6200:\tloss_train=0.034735:\tloss_val=0.083250:\tacc_train=0.990000:\tacc_val=0.973810\n",
            "\n",
            "\n",
            "Iteration 6300:\tloss_train=0.056311:\tloss_val=0.079750:\tacc_train=0.980000:\tacc_val=0.971429\n",
            "\n",
            "\n",
            "Iteration 6400:\tloss_train=0.030946:\tloss_val=0.078755:\tacc_train=1.000000:\tacc_val=0.973810\n",
            "\n",
            "\n",
            "Iteration 6500:\tloss_train=0.060187:\tloss_val=0.076686:\tacc_train=0.980000:\tacc_val=0.971429\n",
            "\n",
            "\n",
            "Iteration 6600:\tloss_train=0.029412:\tloss_val=0.074078:\tacc_train=0.990000:\tacc_val=0.973810\n",
            "\n",
            "\n",
            "Iteration 6700:\tloss_train=0.019881:\tloss_val=0.073426:\tacc_train=1.000000:\tacc_val=0.976190\n",
            "\n",
            "\n",
            "Iteration 6800:\tloss_train=0.142256:\tloss_val=0.074176:\tacc_train=0.970000:\tacc_val=0.976190\n",
            "\n",
            "\n",
            "Iteration 6900:\tloss_train=0.038501:\tloss_val=0.075823:\tacc_train=0.990000:\tacc_val=0.973810\n",
            "\n",
            "\n",
            "Iteration 7000:\tloss_train=0.014912:\tloss_val=0.073924:\tacc_train=1.000000:\tacc_val=0.976190\n",
            "\n",
            "\n",
            "Iteration 7100:\tloss_train=0.118513:\tloss_val=0.073436:\tacc_train=0.980000:\tacc_val=0.976190\n",
            "\n",
            "\n",
            "Iteration 7200:\tloss_train=0.047209:\tloss_val=0.073042:\tacc_train=0.980000:\tacc_val=0.976190\n",
            "\n",
            "\n",
            "Iteration 7300:\tloss_train=0.038673:\tloss_val=0.073604:\tacc_train=0.990000:\tacc_val=0.976190\n",
            "\n",
            "\n",
            "Iteration 7400:\tloss_train=0.096880:\tloss_val=0.073196:\tacc_train=0.960000:\tacc_val=0.976190\n",
            "\n",
            "\n",
            "Iteration 7500:\tloss_train=0.017387:\tloss_val=0.073146:\tacc_train=0.990000:\tacc_val=0.976190\n",
            "\n",
            "\n",
            "Iteration 7600:\tloss_train=0.054528:\tloss_val=0.067653:\tacc_train=0.980000:\tacc_val=0.976190\n",
            "\n",
            "\n",
            "Iteration 7700:\tloss_train=0.036457:\tloss_val=0.073252:\tacc_train=0.990000:\tacc_val=0.978571\n",
            "\n",
            "\n",
            "Iteration 7800:\tloss_train=0.043288:\tloss_val=0.077030:\tacc_train=0.990000:\tacc_val=0.978571\n",
            "\n",
            "\n",
            "Iteration 7900:\tloss_train=0.017823:\tloss_val=0.069640:\tacc_train=0.990000:\tacc_val=0.978571\n",
            "\n",
            "\n",
            "Iteration 8000:\tloss_train=0.043447:\tloss_val=0.070120:\tacc_train=0.990000:\tacc_val=0.978571\n",
            "\n",
            "\n",
            "Iteration 8100:\tloss_train=0.020119:\tloss_val=0.071838:\tacc_train=1.000000:\tacc_val=0.978571\n",
            "\n",
            "\n",
            "Iteration 8200:\tloss_train=0.020466:\tloss_val=0.072422:\tacc_train=0.990000:\tacc_val=0.978571\n",
            "\n",
            "\n",
            "Iteration 8300:\tloss_train=0.076182:\tloss_val=0.072108:\tacc_train=0.980000:\tacc_val=0.978571\n",
            "\n",
            "\n",
            "Iteration 8400:\tloss_train=0.080133:\tloss_val=0.068930:\tacc_train=0.960000:\tacc_val=0.976190\n",
            "\n",
            "\n",
            "Iteration 8500:\tloss_train=0.025306:\tloss_val=0.068675:\tacc_train=1.000000:\tacc_val=0.978571\n",
            "\n",
            "\n",
            "Iteration 8600:\tloss_train=0.017255:\tloss_val=0.067509:\tacc_train=1.000000:\tacc_val=0.980952\n",
            "\n",
            "\n",
            "Iteration 8700:\tloss_train=0.061720:\tloss_val=0.068839:\tacc_train=0.980000:\tacc_val=0.978571\n",
            "\n",
            "\n",
            "Iteration 8800:\tloss_train=0.012023:\tloss_val=0.065184:\tacc_train=0.990000:\tacc_val=0.978571\n",
            "\n",
            "\n",
            "Iteration 8900:\tloss_train=0.065657:\tloss_val=0.064637:\tacc_train=0.970000:\tacc_val=0.978571\n",
            "\n",
            "\n",
            "Iteration 9000:\tloss_train=0.045996:\tloss_val=0.069004:\tacc_train=0.980000:\tacc_val=0.976190\n",
            "\n",
            "\n",
            "Iteration 9100:\tloss_train=0.055525:\tloss_val=0.066210:\tacc_train=0.970000:\tacc_val=0.978571\n",
            "\n",
            "\n",
            "Iteration 9200:\tloss_train=0.007063:\tloss_val=0.064633:\tacc_train=1.000000:\tacc_val=0.978571\n",
            "\n",
            "\n",
            "Iteration 9300:\tloss_train=0.069940:\tloss_val=0.063264:\tacc_train=0.990000:\tacc_val=0.978571\n",
            "\n",
            "\n",
            "Iteration 9400:\tloss_train=0.027722:\tloss_val=0.064018:\tacc_train=0.990000:\tacc_val=0.976190\n",
            "\n",
            "\n",
            "Iteration 9500:\tloss_train=0.041037:\tloss_val=0.063326:\tacc_train=0.980000:\tacc_val=0.976190\n",
            "\n",
            "\n",
            "Iteration 9600:\tloss_train=0.082601:\tloss_val=0.064708:\tacc_train=0.980000:\tacc_val=0.978571\n",
            "\n",
            "\n",
            "Iteration 9700:\tloss_train=0.010558:\tloss_val=0.064775:\tacc_train=1.000000:\tacc_val=0.978571\n",
            "\n",
            "\n",
            "Iteration 9800:\tloss_train=0.029804:\tloss_val=0.066048:\tacc_train=0.990000:\tacc_val=0.978571\n",
            "\n",
            "\n",
            "Iteration 9900:\tloss_train=0.044645:\tloss_val=0.067767:\tacc_train=0.990000:\tacc_val=0.976190\n",
            "\n",
            "\n"
          ],
          "name": "stdout"
        }
      ]
    },
    {
      "metadata": {
        "id": "s5rC6lSIAR-P",
        "colab_type": "code",
        "outputId": "4cad506a-cf39-4f4b-f149-b94ba3286883",
        "colab": {
          "base_uri": "https://localhost:8080/",
          "height": 282
        }
      },
      "cell_type": "code",
      "source": [
        "plt.plot(history['acc_train'],'b*')\n",
        "plt.plot(history['acc_val'],'r*')"
      ],
      "execution_count": 0,
      "outputs": [
        {
          "output_type": "execute_result",
          "data": {
            "text/plain": [
              "[<matplotlib.lines.Line2D at 0x7f076817ecc0>]"
            ]
          },
          "metadata": {
            "tags": []
          },
          "execution_count": 129
        },
        {
          "output_type": "display_data",
          "data": {
            "image/png": "[encoded data removed]",
            "text/plain": [
              "<Figure size 432x288 with 1 Axes>"
            ]
          },
          "metadata": {
            "tags": []
          }
        }
      ]
    },
    {
      "metadata": {
        "id": "tkToA3CjBxJe",
        "colab_type": "code",
        "outputId": "cb0e0a5e-1dab-4ac9-ab69-77014c868b3e",
        "colab": {
          "base_uri": "https://localhost:8080/",
          "height": 282
        }
      },
      "cell_type": "code",
      "source": [
        "plt.plot(history['loss_train'],'b*')\n",
        "plt.plot(history['loss_val'],'r*')"
      ],
      "execution_count": 0,
      "outputs": [
        {
          "output_type": "execute_result",
          "data": {
            "text/plain": [
              "[<matplotlib.lines.Line2D at 0x7f0768144be0>]"
            ]
          },
          "metadata": {
            "tags": []
          },
          "execution_count": 130
        },
        {
          "output_type": "display_data",
          "data": {
            "image/png": "[encoded data removed]",
            "text/plain": [
              "<Figure size 432x288 with 1 Axes>"
            ]
          },
          "metadata": {
            "tags": []
          }
        }
      ]
    },
    {
      "metadata": {
        "id": "X9uiFJ-ogBRi",
        "colab_type": "text"
      },
      "cell_type": "markdown",
      "source": [
        "### Loading a Model"
      ]
    },
    {
      "metadata": {
        "id": "dbtjpi8JgBRj",
        "colab_type": "code",
        "outputId": "c959f299-ebd1-459b-8f5d-830eb4021a21",
        "colab": {}
      },
      "cell_type": "code",
      "source": [
        "with tf.Session() as sess:\n",
        "    \n",
        "    # Restore the model\n",
        "    saver.restore(sess, 'models_saving/my_model.ckpt')\n",
        "    \n",
        "\n",
        "    # Fetch Back Results\n",
        "    label = sess.run(y_pred, feed_dict={x:X_unlabeled,hold_prob:1.0})"
      ],
      "execution_count": 0,
      "outputs": [
        {
          "output_type": "stream",
          "text": [
            "INFO:tensorflow:Restoring parameters from models_saving/my_model.ckpt\n"
          ],
          "name": "stdout"
        }
      ]
    },
    {
      "metadata": {
        "id": "67eRDYiDgBRm",
        "colab_type": "code",
        "outputId": "072c39fb-512d-4b99-c3f1-5e43583a43e6",
        "colab": {}
      },
      "cell_type": "code",
      "source": [
        "label.shape"
      ],
      "execution_count": 0,
      "outputs": [
        {
          "output_type": "execute_result",
          "data": {
            "text/plain": [
              "(28000, 10)"
            ]
          },
          "metadata": {
            "tags": []
          },
          "execution_count": 145
        }
      ]
    },
    {
      "metadata": {
        "id": "9KWKoSzEgBRq",
        "colab_type": "code",
        "colab": {}
      },
      "cell_type": "code",
      "source": [
        "label = np.argmax(label, axis=1 )"
      ],
      "execution_count": 0,
      "outputs": []
    },
    {
      "metadata": {
        "id": "hCR-AZTmgBRt",
        "colab_type": "code",
        "outputId": "15cd3ce6-3b5d-4d1e-ff47-c470d7594ecf",
        "colab": {}
      },
      "cell_type": "code",
      "source": [
        "label.shape"
      ],
      "execution_count": 0,
      "outputs": [
        {
          "output_type": "execute_result",
          "data": {
            "text/plain": [
              "(28000,)"
            ]
          },
          "metadata": {
            "tags": []
          },
          "execution_count": 147
        }
      ]
    },
    {
      "metadata": {
        "colab_type": "text",
        "id": "u13ffZdjrqQf"
      },
      "cell_type": "markdown",
      "source": [
        "### Predict"
      ]
    },
    {
      "metadata": {
        "colab_type": "code",
        "id": "In9n3ZirrqQg",
        "colab": {}
      },
      "cell_type": "code",
      "source": [
        "unlabeled_images_test = pd.read_csv('gdrive/My Drive/dataML/test.csv')\n",
        "#unlabeled_images_test = pd.read_csv('test.csv')"
      ],
      "execution_count": 0,
      "outputs": []
    },
    {
      "metadata": {
        "colab_type": "code",
        "id": "ErPyp1xIrqQi",
        "colab": {}
      },
      "cell_type": "code",
      "source": [
        "X_unlabeled = unlabeled_images_test.values.reshape(unlabeled_images_test.shape[0],28,28,1)/255"
      ],
      "execution_count": 0,
      "outputs": []
    },
    {
      "metadata": {
        "colab_type": "code",
        "outputId": "be1e8ef0-ff29-43e5-bc02-b33c5b515d43",
        "id": "0f6xn42MrqQk",
        "colab": {
          "base_uri": "https://localhost:8080/",
          "height": 282
        }
      },
      "cell_type": "code",
      "source": [
        "plt.imshow(X_unlabeled[1].reshape(28,28))"
      ],
      "execution_count": 0,
      "outputs": [
        {
          "output_type": "execute_result",
          "data": {
            "text/plain": [
              "<matplotlib.image.AxesImage at 0x7f077569d588>"
            ]
          },
          "metadata": {
            "tags": []
          },
          "execution_count": 24
        },
        {
          "output_type": "display_data",
          "data": {
            "image/png": "[encoded data removed]",
            "text/plain": [
              "<Figure size 432x288 with 1 Axes>"
            ]
          },
          "metadata": {
            "tags": []
          }
        }
      ]
    },
    {
      "metadata": {
        "colab_type": "code",
        "outputId": "e287e92d-d7c5-4e6b-cc37-711face336b9",
        "id": "3QYd9lBwrqQo",
        "colab": {
          "base_uri": "https://localhost:8080/",
          "height": 34
        }
      },
      "cell_type": "code",
      "source": [
        "X_unlabeled.shape"
      ],
      "execution_count": 0,
      "outputs": [
        {
          "output_type": "execute_result",
          "data": {
            "text/plain": [
              "(28000, 28, 28, 1)"
            ]
          },
          "metadata": {
            "tags": []
          },
          "execution_count": 25
        }
      ]
    },
    {
      "metadata": {
        "id": "ojRKNc76gBRx",
        "colab_type": "text"
      },
      "cell_type": "markdown",
      "source": [
        "## Predict the unlabeled test sets using the model"
      ]
    },
    {
      "metadata": {
        "id": "yQrGiou8gBRy",
        "colab_type": "code",
        "colab": {}
      },
      "cell_type": "code",
      "source": [
        "imageId = np.arange(1,label.shape[0]+1).tolist()"
      ],
      "execution_count": 0,
      "outputs": []
    },
    {
      "metadata": {
        "id": "9Oj02pY3gBR1",
        "colab_type": "code",
        "colab": {}
      },
      "cell_type": "code",
      "source": [
        "prediction_pd = pd.DataFrame({'ImageId':imageId, 'Label':label})"
      ],
      "execution_count": 0,
      "outputs": []
    },
    {
      "metadata": {
        "id": "VLjMgeXEgBR4",
        "colab_type": "code",
        "colab": {}
      },
      "cell_type": "code",
      "source": [
        "prediction_pd.to_csv('out_cnn4.csv',sep = ',', index = False)"
      ],
      "execution_count": 0,
      "outputs": []
    },
    {
      "metadata": {
        "id": "76xhwmO1gBR6",
        "colab_type": "code",
        "colab": {}
      },
      "cell_type": "code",
      "source": [
        ""
      ],
      "execution_count": 0,
      "outputs": []
    }
  ]
}