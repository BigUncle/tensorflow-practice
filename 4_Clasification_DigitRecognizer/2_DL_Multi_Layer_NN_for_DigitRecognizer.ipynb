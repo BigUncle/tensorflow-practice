{
  "nbformat": 4,
  "nbformat_minor": 0,
  "metadata": {
    "colab": {
      "name": "2 DL Multi-Layer NN for DigitRecognizer.ipynb",
      "version": "0.3.2",
      "provenance": [],
      "collapsed_sections": [
        "b6I1adl5gBQD",
        "xeMZR7ntgBQI",
        "LT78eGccgBQN",
        "4RIGVSojmy-R",
        "RX5PuSUmvRri",
        "X9uiFJ-ogBRi",
        "u13ffZdjrqQf"
      ]
    },
    "kernelspec": {
      "name": "python3",
      "display_name": "Python 3"
    },
    "accelerator": "GPU"
  },
  "cells": [
    {
      "metadata": {
        "id": "JS6jP7tpCrLr",
        "colab_type": "text"
      },
      "cell_type": "markdown",
      "source": [
        "## Digit Recognizer\n",
        "Learn computer vision fundamentals with the famous MNIST dat\n",
        "\n",
        "https://www.kaggle.com/c/digit-recognizer\n",
        "\n",
        "### Competition Description\n",
        "MNIST (\"Modified National Institute of Standards and Technology\") is the de facto “hello world” dataset of computer vision. Since its release in 1999, this classic dataset of handwritten images has served as the basis for benchmarking classification algorithms. As new machine learning techniques emerge, MNIST remains a reliable resource for researchers and learners alike.\n",
        "\n",
        "In this competition, your goal is to correctly identify digits from a dataset of tens of thousands of handwritten images. We’ve curated a set of tutorial-style kernels which cover everything from regression to neural networks. We encourage you to experiment with different algorithms to learn first-hand what works well and how techniques compare.\n",
        "\n",
        "### Practice Skills\n",
        "Computer vision fundamentals including simple neural networks\n",
        "\n",
        "Classification methods such as SVM and K-nearest neighbors\n",
        "\n",
        "#### Acknowledgements \n",
        "More details about the dataset, including algorithms that have been tried on it and their levels of success, can be found at http://yann.lecun.com/exdb/mnist/index.html. The dataset is made available under a Creative Commons Attribution-Share Alike 3.0 license."
      ]
    },
    {
      "metadata": {
        "id": "LgcAAVmXgBPm",
        "colab_type": "code",
        "colab": {}
      },
      "cell_type": "code",
      "source": [
        "import pandas as pd\n",
        "import math\n",
        "import numpy as np\n",
        "import matplotlib.pyplot as plt, matplotlib.image as mpimg\n",
        "from sklearn.model_selection import train_test_split\n",
        "import tensorflow as tf\n",
        "%matplotlib inline"
      ],
      "execution_count": 0,
      "outputs": []
    },
    {
      "metadata": {
        "id": "EITzxKZRgBPy",
        "colab_type": "code",
        "colab": {}
      },
      "cell_type": "code",
      "source": [
        "from tensorflow import keras\n",
        "from tensorflow.keras import models\n",
        "from tensorflow.keras import losses,optimizers,metrics\n",
        "from tensorflow.keras import layers"
      ],
      "execution_count": 0,
      "outputs": []
    },
    {
      "metadata": {
        "id": "4PihLjAggBP1",
        "colab_type": "text"
      },
      "cell_type": "markdown",
      "source": [
        "## Data Preparation"
      ]
    },
    {
      "metadata": {
        "id": "cra90fdEsmsI",
        "colab_type": "code",
        "outputId": "88ef9433-f362-4392-d746-6464cb788df3",
        "colab": {
          "base_uri": "https://localhost:8080/",
          "height": 34
        }
      },
      "cell_type": "code",
      "source": [
        "from google.colab import drive \n",
        "drive.mount('/content/gdrive')"
      ],
      "execution_count": 7,
      "outputs": [
        {
          "output_type": "stream",
          "text": [
            "Drive already mounted at /content/gdrive; to attempt to forcibly remount, call drive.mount(\"/content/gdrive\", force_remount=True).\n"
          ],
          "name": "stdout"
        }
      ]
    },
    {
      "metadata": {
        "id": "K58DeQH2gBP2",
        "colab_type": "code",
        "colab": {}
      },
      "cell_type": "code",
      "source": [
        "labeled_images = pd.read_csv('gdrive/My Drive/dataML/train.csv')\n",
        "#labeled_images = pd.read_csv('train.csv')\n",
        "images = labeled_images.iloc[:,1:]\n",
        "labels = labeled_images.iloc[:,:1]\n",
        "train_images, test_images,train_labels, test_labels = train_test_split(images, labels, test_size=0.01)"
      ],
      "execution_count": 0,
      "outputs": []
    },
    {
      "metadata": {
        "id": "At9soAW0qOs4",
        "colab_type": "code",
        "outputId": "f4fa52ce-be55-4e43-dccc-e72632b8fe93",
        "colab": {
          "base_uri": "https://localhost:8080/",
          "height": 85
        }
      },
      "cell_type": "code",
      "source": [
        "print(train_images.shape)\n",
        "print(train_labels.shape)\n",
        "print(test_images.shape)\n",
        "print(test_labels.shape)"
      ],
      "execution_count": 39,
      "outputs": [
        {
          "output_type": "stream",
          "text": [
            "(41580, 784)\n",
            "(41580, 1)\n",
            "(420, 784)\n",
            "(420, 1)\n"
          ],
          "name": "stdout"
        }
      ]
    },
    {
      "metadata": {
        "id": "f87cEn1_xfqI",
        "colab_type": "text"
      },
      "cell_type": "markdown",
      "source": [
        "## Keras"
      ]
    },
    {
      "metadata": {
        "id": "UfkBgDM1gBP5",
        "colab_type": "text"
      },
      "cell_type": "markdown",
      "source": [
        "#### convert the data to the right type"
      ]
    },
    {
      "metadata": {
        "id": "-X3Uu-o_gBP6",
        "colab_type": "code",
        "colab": {}
      },
      "cell_type": "code",
      "source": [
        "x_train = train_images.values.reshape(train_images.shape[0],28,28,1)\n",
        "x_test = test_images.values.reshape(test_images.shape[0],28,28,1)\n",
        "y_train = train_labels.values\n",
        "y_test = test_labels.values"
      ],
      "execution_count": 0,
      "outputs": []
    },
    {
      "metadata": {
        "id": "7vboLIlsgBP9",
        "colab_type": "code",
        "colab": {
          "base_uri": "https://localhost:8080/",
          "height": 282
        },
        "outputId": "b12b1420-306e-4486-a168-7e5da894cb45"
      },
      "cell_type": "code",
      "source": [
        "plt.imshow(x_train[12].squeeze())"
      ],
      "execution_count": 41,
      "outputs": [
        {
          "output_type": "execute_result",
          "data": {
            "text/plain": [
              "<matplotlib.image.AxesImage at 0x7f65316dec88>"
            ]
          },
          "metadata": {
            "tags": []
          },
          "execution_count": 41
        },
        {
          "output_type": "display_data",
          "data": {
            "image/png": "[encoded data removed]",
            "text/plain": [
              "<Figure size 432x288 with 1 Axes>"
            ]
          },
          "metadata": {
            "tags": []
          }
        }
      ]
    },
    {
      "metadata": {
        "id": "b6I1adl5gBQD",
        "colab_type": "text"
      },
      "cell_type": "markdown",
      "source": [
        "#### convert the data to the right type"
      ]
    },
    {
      "metadata": {
        "id": "GAIvNCv6gBQE",
        "colab_type": "code",
        "outputId": "e6f42659-0766-4f2c-df33-fba496026756",
        "colab": {
          "base_uri": "https://localhost:8080/",
          "height": 68
        }
      },
      "cell_type": "code",
      "source": [
        "x_train = train_images\n",
        "x_test = test_images\n",
        "x_train /= 255\n",
        "x_test /= 255\n",
        "y_train = train_labels\n",
        "y_test = test_labels\n",
        "print('x_train shape:', x_train.shape)\n",
        "print(x_train.shape[0], 'train samples')\n",
        "print(x_test.shape[0], 'test samples')"
      ],
      "execution_count": 42,
      "outputs": [
        {
          "output_type": "stream",
          "text": [
            "x_train shape: (41580, 784)\n",
            "41580 train samples\n",
            "420 test samples\n"
          ],
          "name": "stdout"
        }
      ]
    },
    {
      "metadata": {
        "collapsed": true,
        "id": "xeMZR7ntgBQI",
        "colab_type": "text"
      },
      "cell_type": "markdown",
      "source": [
        "### convert class vectors to binary class matrices - this is for use in the\n",
        "### categorical_crossentropy loss below"
      ]
    },
    {
      "metadata": {
        "id": "8e2qjHPLgBQJ",
        "colab_type": "code",
        "colab": {}
      },
      "cell_type": "code",
      "source": [
        "y_train = keras.utils.to_categorical(y_train)\n",
        "y_test = keras.utils.to_categorical(y_test)"
      ],
      "execution_count": 0,
      "outputs": []
    },
    {
      "metadata": {
        "id": "LT78eGccgBQN",
        "colab_type": "text"
      },
      "cell_type": "markdown",
      "source": [
        "### Creating the Model\n"
      ]
    },
    {
      "metadata": {
        "id": "AMOStnPCFWSI",
        "colab_type": "code",
        "outputId": "67e94478-d67d-40c4-e1c6-b1f9840d6c3e",
        "colab": {
          "base_uri": "https://localhost:8080/",
          "height": 513
        }
      },
      "cell_type": "code",
      "source": [
        "model = models.Sequential()\n",
        "\n",
        "model.add(layers.Dense(units=200, activation='relu',input_shape=(784,)))\n",
        "model.add(layers.Dropout(0.25))\n",
        "\n",
        "model.add(layers.Dense(units=100, activation='relu'))\n",
        "model.add(layers.Dropout(0.25))\n",
        "\n",
        "model.add(layers.Dense(units=60, activation='relu'))\n",
        "model.add(layers.Dropout(0.25))\n",
        "\n",
        "model.add(layers.Dense(units=30, activation='relu'))\n",
        "model.add(layers.Dropout(0.25))\n",
        "\n",
        "model.add(layers.Dense(units=10, activation='softmax'))\n",
        "\n",
        "model.summary()          "
      ],
      "execution_count": 46,
      "outputs": [
        {
          "output_type": "stream",
          "text": [
            "WARNING:tensorflow:From /usr/local/lib/python3.6/dist-packages/tensorflow/python/keras/layers/core.py:143: calling dropout (from tensorflow.python.ops.nn_ops) with keep_prob is deprecated and will be removed in a future version.\n",
            "Instructions for updating:\n",
            "Please use `rate` instead of `keep_prob`. Rate should be set to `rate = 1 - keep_prob`.\n",
            "_________________________________________________________________\n",
            "Layer (type)                 Output Shape              Param #   \n",
            "=================================================================\n",
            "dense (Dense)                (None, 200)               157000    \n",
            "_________________________________________________________________\n",
            "dropout (Dropout)            (None, 200)               0         \n",
            "_________________________________________________________________\n",
            "dense_1 (Dense)              (None, 100)               20100     \n",
            "_________________________________________________________________\n",
            "dropout_1 (Dropout)          (None, 100)               0         \n",
            "_________________________________________________________________\n",
            "dense_2 (Dense)              (None, 60)                6060      \n",
            "_________________________________________________________________\n",
            "dropout_2 (Dropout)          (None, 60)                0         \n",
            "_________________________________________________________________\n",
            "dense_3 (Dense)              (None, 30)                1830      \n",
            "_________________________________________________________________\n",
            "dropout_3 (Dropout)          (None, 30)                0         \n",
            "_________________________________________________________________\n",
            "dense_4 (Dense)              (None, 10)                310       \n",
            "=================================================================\n",
            "Total params: 185,300\n",
            "Trainable params: 185,300\n",
            "Non-trainable params: 0\n",
            "_________________________________________________________________\n"
          ],
          "name": "stdout"
        }
      ]
    },
    {
      "metadata": {
        "id": "BLdOV8vYgBQS",
        "colab_type": "code",
        "colab": {}
      },
      "cell_type": "code",
      "source": [
        "adam = keras.optimizers.Adam(lr = 0.0001)\n",
        "\n",
        "model.compile(loss=keras.losses.categorical_crossentropy, \n",
        "              optimizer=adam, \n",
        "              metrics=['accuracy'])"
      ],
      "execution_count": 0,
      "outputs": []
    },
    {
      "metadata": {
        "id": "pxI5Gi4xgBQV",
        "colab_type": "code",
        "outputId": "8f81e033-49ed-4cbb-bb7b-0bb92596fc75",
        "colab": {
          "base_uri": "https://localhost:8080/",
          "height": 102
        }
      },
      "cell_type": "code",
      "source": [
        "H = model.fit(x_train, y_train,\n",
        "          batch_size=100,\n",
        "          epochs=300,\n",
        "          verbose=1,\n",
        "          validation_data=(x_test, y_test))"
      ],
      "execution_count": 0,
      "outputs": [
        {
          "output_type": "stream",
          "text": [
            "Train on 41580 samples, validate on 420 samples\n",
            "Epoch 1/300\n",
            "41580/41580 [==============================] - 5s 118us/sample - loss: 0.7477 - acc: 0.7655 - val_loss: 0.3542 - val_acc: 0.9095\n",
            "Epoch 2/300\n",
            "14400/41580 [=========>....................] - ETA: 2s - loss: 0.6184 - acc: 0.8147"
          ],
          "name": "stdout"
        }
      ]
    },
    {
      "metadata": {
        "id": "CHDGYz_Mki4G",
        "colab_type": "code",
        "outputId": "1b6c61da-3632-4606-e1e0-3c829e1c58a9",
        "colab": {
          "base_uri": "https://localhost:8080/",
          "height": 34
        }
      },
      "cell_type": "code",
      "source": [
        "H.history.keys()"
      ],
      "execution_count": 0,
      "outputs": [
        {
          "output_type": "execute_result",
          "data": {
            "text/plain": [
              "dict_keys(['loss', 'acc', 'val_loss', 'val_acc'])"
            ]
          },
          "metadata": {
            "tags": []
          },
          "execution_count": 14
        }
      ]
    },
    {
      "metadata": {
        "id": "G1s_nCBWk-91",
        "colab_type": "code",
        "outputId": "b4917a58-50f3-4500-8851-9ba90db6cf34",
        "colab": {
          "base_uri": "https://localhost:8080/",
          "height": 282
        }
      },
      "cell_type": "code",
      "source": [
        "plt.plot(H.history['acc'])\n",
        "plt.plot(H.history['val_acc'],'r')"
      ],
      "execution_count": 0,
      "outputs": [
        {
          "output_type": "execute_result",
          "data": {
            "text/plain": [
              "[<matplotlib.lines.Line2D at 0x7fd9762b8ba8>]"
            ]
          },
          "metadata": {
            "tags": []
          },
          "execution_count": 112
        },
        {
          "output_type": "display_data",
          "data": {
            "image/png": "[encoded data removed]",
            "text/plain": [
              "<Figure size 432x288 with 1 Axes>"
            ]
          },
          "metadata": {
            "tags": []
          }
        }
      ]
    },
    {
      "metadata": {
        "id": "-AGE67k2lGxL",
        "colab_type": "code",
        "outputId": "e1ce36c6-50c0-4b3a-81ea-4fa7861d5e8b",
        "colab": {
          "base_uri": "https://localhost:8080/",
          "height": 282
        }
      },
      "cell_type": "code",
      "source": [
        "plt.plot(H.history['loss'])\n",
        "plt.plot(H.history['val_loss'],'r')"
      ],
      "execution_count": 0,
      "outputs": [
        {
          "output_type": "execute_result",
          "data": {
            "text/plain": [
              "[<matplotlib.lines.Line2D at 0x7fd975d12cc0>]"
            ]
          },
          "metadata": {
            "tags": []
          },
          "execution_count": 113
        },
        {
          "output_type": "display_data",
          "data": {
            "image/png": "[encoded data removed]",
            "text/plain": [
              "<Figure size 432x288 with 1 Axes>"
            ]
          },
          "metadata": {
            "tags": []
          }
        }
      ]
    },
    {
      "metadata": {
        "id": "4RIGVSojmy-R",
        "colab_type": "text"
      },
      "cell_type": "markdown",
      "source": [
        "### Predict"
      ]
    },
    {
      "metadata": {
        "id": "tnigE74rm39a",
        "colab_type": "code",
        "colab": {}
      },
      "cell_type": "code",
      "source": [
        "unlabeled_images_test = pd.read_csv('gdrive/My Drive/dataML/test.csv')\n",
        "#unlabeled_images_test = pd.read_csv('test.csv')"
      ],
      "execution_count": 0,
      "outputs": []
    },
    {
      "metadata": {
        "id": "3Fotf1KrpXVE",
        "colab_type": "code",
        "colab": {}
      },
      "cell_type": "code",
      "source": [
        "X_unlabeled = unlabeled_images_test.values.reshape(unlabeled_images_test.shape[0],28,28,1)/255"
      ],
      "execution_count": 0,
      "outputs": []
    },
    {
      "metadata": {
        "id": "jeRnCHzdutQ0",
        "colab_type": "code",
        "colab": {}
      },
      "cell_type": "code",
      "source": [
        "y_pred = model.predict(X_unlabeled)"
      ],
      "execution_count": 0,
      "outputs": []
    },
    {
      "metadata": {
        "id": "3M_fePteu-3X",
        "colab_type": "code",
        "colab": {}
      },
      "cell_type": "code",
      "source": [
        "y_label = np.argmax(y_pred, axis=1)"
      ],
      "execution_count": 0,
      "outputs": []
    },
    {
      "metadata": {
        "id": "RX5PuSUmvRri",
        "colab_type": "text"
      },
      "cell_type": "markdown",
      "source": [
        "### Save csv"
      ]
    },
    {
      "metadata": {
        "id": "zU5Q1fSRvVbn",
        "colab_type": "code",
        "colab": {}
      },
      "cell_type": "code",
      "source": [
        "imageId = np.arange(1,y_label.shape[0]+1).tolist()\n",
        "prediction_pd = pd.DataFrame({'ImageId':imageId, 'Label':y_label})\n",
        "prediction_pd.to_csv('gdrive/My Drive/dataML/out_cnn05.csv',sep = ',', index = False)"
      ],
      "execution_count": 0,
      "outputs": []
    },
    {
      "metadata": {
        "id": "_qetEX7AgBQY",
        "colab_type": "text"
      },
      "cell_type": "markdown",
      "source": [
        "# Tensorflow"
      ]
    },
    {
      "metadata": {
        "id": "4keUL7d0gBQZ",
        "colab_type": "text"
      },
      "cell_type": "markdown",
      "source": [
        "### Helper functions for batch learning"
      ]
    },
    {
      "metadata": {
        "id": "czdbjPfcgBQd",
        "colab_type": "code",
        "colab": {}
      },
      "cell_type": "code",
      "source": [
        "def one_hot_encode(vec, vals=10):\n",
        "    '''\n",
        "    For use to one-hot encode the 10- possible labels\n",
        "    '''\n",
        "    n = len(vec)\n",
        "    out = np.zeros((n, vals))\n",
        "    out[range(n), vec] = 1\n",
        "    return out"
      ],
      "execution_count": 0,
      "outputs": []
    },
    {
      "metadata": {
        "id": "Afc2XmK2gBQh",
        "colab_type": "code",
        "colab": {}
      },
      "cell_type": "code",
      "source": [
        "class CifarHelper():\n",
        "    \n",
        "    def __init__(self):\n",
        "        self.i = 0\n",
        "        \n",
        "        # Intialize some empty variables for later on\n",
        "        self.training_images = None\n",
        "        self.training_labels = None\n",
        "        \n",
        "        self.test_images = None\n",
        "        self.test_labels = None\n",
        "    \n",
        "    def set_up_images(self):\n",
        "        \n",
        "        print(\"Setting Up Training Images and Labels\")\n",
        "        \n",
        "        # Vertically stacks the training images\n",
        "        self.training_images = train_images.as_matrix()\n",
        "        train_len = self.training_images.shape[0]\n",
        "        \n",
        "        # Reshapes and normalizes training images\n",
        "        self.training_images = self.training_images.reshape(train_len,28,28,1)/255\n",
        "        # One hot Encodes the training labels (e.g. [0,0,0,1,0,0,0,0,0,0])\n",
        "        self.training_labels = one_hot_encode(train_labels.as_matrix().reshape(-1), 10)\n",
        "        \n",
        "        print(\"Setting Up Test Images and Labels\")\n",
        "        \n",
        "        # Vertically stacks the test images\n",
        "        self.test_images = test_images.as_matrix()\n",
        "        test_len = self.test_images.shape[0]\n",
        "        \n",
        "        # Reshapes and normalizes test images\n",
        "        self.test_images = self.test_images.reshape(test_len,28,28,1)/255\n",
        "        # One hot Encodes the test labels (e.g. [0,0,0,1,0,0,0,0,0,0])\n",
        "        self.test_labels = one_hot_encode(test_labels.as_matrix().reshape(-1), 10)\n",
        "\n",
        "        \n",
        "    def next_batch(self, batch_size):\n",
        "        # Note that the 100 dimension in the reshape call is set by an assumed batch size of 100\n",
        "        x = self.training_images[self.i:self.i+batch_size]\n",
        "        y = self.training_labels[self.i:self.i+batch_size]\n",
        "        self.i = (self.i + batch_size) % len(self.training_images)\n",
        "        return x, y"
      ],
      "execution_count": 0,
      "outputs": []
    },
    {
      "metadata": {
        "id": "1qAiPT1-gBQp",
        "colab_type": "code",
        "outputId": "ec1461e8-f314-42db-cdb1-95944eb12d6a",
        "colab": {
          "base_uri": "https://localhost:8080/",
          "height": 51
        }
      },
      "cell_type": "code",
      "source": [
        "# Before Your tf.Session run these two lines\n",
        "ch = CifarHelper()\n",
        "ch.set_up_images()\n",
        "\n",
        "# During your session to grab the next batch use this line\n",
        "# (Just like we did for mnist.train.next_batch)\n",
        "# batch = ch.next_batch(100)"
      ],
      "execution_count": 13,
      "outputs": [
        {
          "output_type": "stream",
          "text": [
            "Setting Up Training Images and Labels\n",
            "Setting Up Test Images and Labels\n"
          ],
          "name": "stdout"
        }
      ]
    },
    {
      "metadata": {
        "id": "QUkUv8sKgBQw",
        "colab_type": "text"
      },
      "cell_type": "markdown",
      "source": [
        "## Creating the Model\n",
        "\n"
      ]
    },
    {
      "metadata": {
        "id": "l1XSMzIpgBQx",
        "colab_type": "text"
      },
      "cell_type": "markdown",
      "source": [
        "** Create 2 placeholders, x and y_true. Their shapes should be: **\n",
        "\n",
        "* X shape = [None,28,28,1]\n",
        "* Y_true shape = [None,10]\n",
        "\n",
        "** Create three more placeholders \n",
        "* lr: learning rate\n",
        "* step：for learning rate decay\n",
        "* drop_rate"
      ]
    },
    {
      "metadata": {
        "id": "8Y_4DDQvgBQz",
        "colab_type": "code",
        "colab": {}
      },
      "cell_type": "code",
      "source": [
        "X = tf.placeholder(tf.float32, shape=[None,28,28,1])\n",
        "Y_true = tf.placeholder(tf.float32, shape=[None,10])\n",
        "\n",
        "lr = tf.placeholder(tf.float32)\n",
        "step = tf.placeholder(tf.int32)\n",
        "drop_rate = tf.placeholder(tf.float32)"
      ],
      "execution_count": 0,
      "outputs": []
    },
    {
      "metadata": {
        "id": "5egQVsS4NhxW",
        "colab_type": "text"
      },
      "cell_type": "markdown",
      "source": [
        "### Initialize Weights and bias\n",
        "Five layers with 200, 100, 60, 30 and 10 neurons"
      ]
    },
    {
      "metadata": {
        "id": "RQ_UDA08dBcN",
        "colab_type": "code",
        "colab": {}
      },
      "cell_type": "code",
      "source": [
        "L = 200\n",
        "M = 100\n",
        "N = 60\n",
        "O = 30"
      ],
      "execution_count": 0,
      "outputs": []
    },
    {
      "metadata": {
        "id": "xiVQdlDsN1W-",
        "colab_type": "code",
        "colab": {}
      },
      "cell_type": "code",
      "source": [
        "W1 = tf.Variable(tf.truncated_normal([784, L], stddev=0.1))  # 784 = 28 * 28\n",
        "B1 = tf.Variable(tf.ones([L])/10)\n",
        "\n",
        "W2 = tf.Variable(tf.truncated_normal([L, M], stddev=0.1))\n",
        "B2 = tf.Variable(tf.ones([M])/10)\n",
        "\n",
        "W3 = tf.Variable(tf.truncated_normal([M, N], stddev=0.1))\n",
        "B3 = tf.Variable(tf.ones([N])/10)\n",
        "\n",
        "W4 = tf.Variable(tf.truncated_normal([N, O], stddev=0.1))\n",
        "B4 = tf.Variable(tf.ones([O])/10)\n",
        "\n",
        "W5 = tf.Variable(tf.truncated_normal([O, 10], stddev=0.1))\n",
        "\n",
        "B5 = tf.Variable(tf.zeros([10]))"
      ],
      "execution_count": 0,
      "outputs": []
    },
    {
      "metadata": {
        "id": "u4RDJq8pO_Og",
        "colab_type": "text"
      },
      "cell_type": "markdown",
      "source": [
        "### layers"
      ]
    },
    {
      "metadata": {
        "id": "x52yDbi6bCMb",
        "colab_type": "code",
        "colab": {}
      },
      "cell_type": "code",
      "source": [
        "XX = tf.reshape(X,[-1,784])"
      ],
      "execution_count": 0,
      "outputs": []
    },
    {
      "metadata": {
        "id": "DM5_O098O4Di",
        "colab_type": "code",
        "colab": {}
      },
      "cell_type": "code",
      "source": [
        "Y1 = tf.nn.relu(tf.matmul(XX, W1) + B1)\n",
        "Y1d = tf.nn.dropout(Y1,rate = drop_rate)\n",
        "\n",
        "Y2 = tf.nn.relu(tf.matmul(Y1, W2) + B2)\n",
        "Y2d = tf.nn.dropout(Y2,rate = drop_rate)\n",
        "\n",
        "Y3 = tf.nn.relu(tf.matmul(Y2, W3) + B3)\n",
        "Y3d = tf.nn.dropout(Y3,rate = drop_rate)\n",
        "\n",
        "Y4 = tf.nn.relu(tf.matmul(Y3, W4) + B4)\n",
        "Y4d = tf.nn.dropout(Y4,rate = drop_rate)\n",
        "\n",
        "Ylogits = tf.matmul(Y4, W5) + B5\n",
        "Y = tf.nn.softmax(Ylogits)"
      ],
      "execution_count": 0,
      "outputs": []
    },
    {
      "metadata": {
        "id": "tT4TvNz-gBRI",
        "colab_type": "text"
      },
      "cell_type": "markdown",
      "source": [
        "### Loss Function"
      ]
    },
    {
      "metadata": {
        "id": "wkqQ5GurgBRJ",
        "colab_type": "code",
        "colab": {}
      },
      "cell_type": "code",
      "source": [
        "#cross_entropy = tf.reduce_mean(tf.nn.softmax_cross_entropy_with_logits_v2(labels=Y_true,logits=Ylogits))\n",
        "cross_entropy = tf.losses.softmax_cross_entropy(onehot_labels = Y_true, logits = Ylogits)\n",
        "#cross_entropy = -tf.reduce_mean(y_true * tf.log(Ylogits)) * 1000.0 "
      ],
      "execution_count": 0,
      "outputs": []
    },
    {
      "metadata": {
        "id": "jmnEUVWxgBRM",
        "colab_type": "text"
      },
      "cell_type": "markdown",
      "source": [
        "### Optimizer"
      ]
    },
    {
      "metadata": {
        "id": "MoyIlzCagBRN",
        "colab_type": "code",
        "colab": {}
      },
      "cell_type": "code",
      "source": [
        "lr = 0.0001 + tf.train.exponential_decay(learning_rate = 0.003, \n",
        "                                         global_step = step,\n",
        "                                         decay_steps = 2000,\n",
        "                                         decay_rate = 1/math.e\n",
        "                                        )\n",
        "\n",
        "#optimizer = tf.train.GradientDescentOptimizer(learning_rate = 0.005)\n",
        "optimizer = tf.train.AdamOptimizer(learning_rate=lr)\n",
        "train = optimizer.minimize(cross_entropy)"
      ],
      "execution_count": 0,
      "outputs": []
    },
    {
      "metadata": {
        "id": "47rAzeVNgBRP",
        "colab_type": "text"
      },
      "cell_type": "markdown",
      "source": [
        "### Intialize Variables"
      ]
    },
    {
      "metadata": {
        "id": "7WG1AszIgBRQ",
        "colab_type": "code",
        "colab": {}
      },
      "cell_type": "code",
      "source": [
        "init = tf.global_variables_initializer()"
      ],
      "execution_count": 0,
      "outputs": []
    },
    {
      "metadata": {
        "id": "rseSYLjggBRb",
        "colab_type": "text"
      },
      "cell_type": "markdown",
      "source": [
        "### Saving the Model"
      ]
    },
    {
      "metadata": {
        "id": "OwdUgOG4gBRc",
        "colab_type": "code",
        "colab": {}
      },
      "cell_type": "code",
      "source": [
        "saver = tf.train.Saver()"
      ],
      "execution_count": 0,
      "outputs": []
    },
    {
      "metadata": {
        "id": "xGdHTpE0gBRe",
        "colab_type": "text"
      },
      "cell_type": "markdown",
      "source": [
        "## Graph Session\n",
        "\n",
        "** Perform the training and test print outs in a Tf session and run your model! **"
      ]
    },
    {
      "metadata": {
        "id": "pQHEYbyZgBRf",
        "colab_type": "code",
        "outputId": "88b66afd-42a0-4408-9d87-114136fb4df6",
        "colab": {
          "base_uri": "https://localhost:8080/",
          "height": 10237
        }
      },
      "cell_type": "code",
      "source": [
        "history = {'acc_train':list(),'acc_val':list(),\n",
        "           'loss_train':list(),'loss_val':list(),\n",
        "          'learning_rate':list()}\n",
        "with tf.Session() as sess:\n",
        "    sess.run(tf.global_variables_initializer())\n",
        "    \n",
        "    for i in range(20000):\n",
        "        batch = ch.next_batch(100)\n",
        "        sess.run(train, feed_dict={X: batch[0], Y_true: batch[1], step: i, drop_rate: 0.25})\n",
        "        \n",
        "        # PRINT OUT A MESSAGE EVERY 100 STEPS\n",
        "        if i%100 == 0:\n",
        "            \n",
        "            # Test the Train Model\n",
        "            feed_dict_train = {X: batch[0], Y_true: batch[1], drop_rate: 0.25}\n",
        "            feed_dict_val = {X:ch.test_images, Y_true:ch.test_labels, drop_rate: 0}\n",
        "\n",
        "            matches = tf.equal(tf.argmax(Y,1),tf.argmax(Y_true,1))\n",
        "            acc = tf.reduce_mean(tf.cast(matches,tf.float32))\n",
        "            history['acc_train'].append(sess.run(acc, feed_dict = feed_dict_train))\n",
        "            history['acc_val'].append(sess.run(acc, feed_dict = feed_dict_val))\n",
        "\n",
        "            history['loss_train'].append(sess.run(cross_entropy, feed_dict = feed_dict_train))\n",
        "            history['loss_val'].append(sess.run(cross_entropy, feed_dict = feed_dict_val))\n",
        "            \n",
        "            history['learning_rate'].append(sess.run(lr, feed_dict = {step: i}))\n",
        "            print(\"Iteration {}:\\tlearning_rate={:.6f},\\tloss_train={:.6f},\\tloss_val={:.6f},\\tacc_train={:.6f},\\tacc_val={:.6f}\"\n",
        "                  .format(i,history['learning_rate'][-1],\n",
        "                          history['loss_train'][-1],\n",
        "                          history['loss_val'][-1],\n",
        "                          history['acc_train'][-1],\n",
        "                          history['acc_val'][-1]))\n",
        "            \n",
        "            print('\\n')\n",
        "        \n",
        "    saver.save(sess,'models_saving/my_model.ckpt')"
      ],
      "execution_count": 37,
      "outputs": [
        {
          "output_type": "stream",
          "text": [
            "Iteration 0:\tlearning_rate=0.003100,\tloss_train=2.182136,\tloss_val=2.249882,\tacc_train=0.340000,\tacc_val=0.240476\n",
            "\n",
            "\n",
            "Iteration 100:\tlearning_rate=0.002954,\tloss_train=0.467531,\tloss_val=0.311416,\tacc_train=0.850000,\tacc_val=0.909524\n",
            "\n",
            "\n",
            "Iteration 200:\tlearning_rate=0.002815,\tloss_train=0.137905,\tloss_val=0.242698,\tacc_train=0.960000,\tacc_val=0.928571\n",
            "\n",
            "\n",
            "Iteration 300:\tlearning_rate=0.002682,\tloss_train=0.210080,\tloss_val=0.177731,\tacc_train=0.910000,\tacc_val=0.954762\n",
            "\n",
            "\n",
            "Iteration 400:\tlearning_rate=0.002556,\tloss_train=0.124743,\tloss_val=0.154332,\tacc_train=0.960000,\tacc_val=0.947619\n",
            "\n",
            "\n",
            "Iteration 500:\tlearning_rate=0.002436,\tloss_train=0.073579,\tloss_val=0.153308,\tacc_train=0.980000,\tacc_val=0.947619\n",
            "\n",
            "\n",
            "Iteration 600:\tlearning_rate=0.002322,\tloss_train=0.142366,\tloss_val=0.138387,\tacc_train=0.950000,\tacc_val=0.950000\n",
            "\n",
            "\n",
            "Iteration 700:\tlearning_rate=0.002214,\tloss_train=0.078855,\tloss_val=0.133273,\tacc_train=0.980000,\tacc_val=0.961905\n",
            "\n",
            "\n",
            "Iteration 800:\tlearning_rate=0.002111,\tloss_train=0.173613,\tloss_val=0.106029,\tacc_train=0.940000,\tacc_val=0.971429\n",
            "\n",
            "\n",
            "Iteration 900:\tlearning_rate=0.002013,\tloss_train=0.015321,\tloss_val=0.104072,\tacc_train=1.000000,\tacc_val=0.966667\n",
            "\n",
            "\n",
            "Iteration 1000:\tlearning_rate=0.001920,\tloss_train=0.084647,\tloss_val=0.092288,\tacc_train=0.990000,\tacc_val=0.969048\n",
            "\n",
            "\n",
            "Iteration 1100:\tlearning_rate=0.001831,\tloss_train=0.061755,\tloss_val=0.094668,\tacc_train=0.980000,\tacc_val=0.973810\n",
            "\n",
            "\n",
            "Iteration 1200:\tlearning_rate=0.001746,\tloss_train=0.058723,\tloss_val=0.117119,\tacc_train=0.980000,\tacc_val=0.973810\n",
            "\n",
            "\n",
            "Iteration 1300:\tlearning_rate=0.001666,\tloss_train=0.044989,\tloss_val=0.106210,\tacc_train=0.980000,\tacc_val=0.971429\n",
            "\n",
            "\n",
            "Iteration 1400:\tlearning_rate=0.001590,\tloss_train=0.066791,\tloss_val=0.110536,\tacc_train=0.990000,\tacc_val=0.964286\n",
            "\n",
            "\n",
            "Iteration 1500:\tlearning_rate=0.001517,\tloss_train=0.019402,\tloss_val=0.082813,\tacc_train=1.000000,\tacc_val=0.973810\n",
            "\n",
            "\n",
            "Iteration 1600:\tlearning_rate=0.001448,\tloss_train=0.031793,\tloss_val=0.071809,\tacc_train=0.980000,\tacc_val=0.971429\n",
            "\n",
            "\n",
            "Iteration 1700:\tlearning_rate=0.001382,\tloss_train=0.004142,\tloss_val=0.110185,\tacc_train=1.000000,\tacc_val=0.973810\n",
            "\n",
            "\n",
            "Iteration 1800:\tlearning_rate=0.001320,\tloss_train=0.034569,\tloss_val=0.087457,\tacc_train=0.990000,\tacc_val=0.973810\n",
            "\n",
            "\n",
            "Iteration 1900:\tlearning_rate=0.001260,\tloss_train=0.048113,\tloss_val=0.104406,\tacc_train=0.980000,\tacc_val=0.978571\n",
            "\n",
            "\n",
            "Iteration 2000:\tlearning_rate=0.001204,\tloss_train=0.067228,\tloss_val=0.117857,\tacc_train=0.980000,\tacc_val=0.966667\n",
            "\n",
            "\n",
            "Iteration 2100:\tlearning_rate=0.001150,\tloss_train=0.007029,\tloss_val=0.094794,\tacc_train=1.000000,\tacc_val=0.978571\n",
            "\n",
            "\n",
            "Iteration 2200:\tlearning_rate=0.001099,\tloss_train=0.004668,\tloss_val=0.144633,\tacc_train=1.000000,\tacc_val=0.966667\n",
            "\n",
            "\n",
            "Iteration 2300:\tlearning_rate=0.001050,\tloss_train=0.008437,\tloss_val=0.121889,\tacc_train=1.000000,\tacc_val=0.964286\n",
            "\n",
            "\n",
            "Iteration 2400:\tlearning_rate=0.001004,\tloss_train=0.012576,\tloss_val=0.140632,\tacc_train=1.000000,\tacc_val=0.971429\n",
            "\n",
            "\n",
            "Iteration 2500:\tlearning_rate=0.000960,\tloss_train=0.006416,\tloss_val=0.082882,\tacc_train=1.000000,\tacc_val=0.978571\n",
            "\n",
            "\n",
            "Iteration 2600:\tlearning_rate=0.000918,\tloss_train=0.012619,\tloss_val=0.117119,\tacc_train=1.000000,\tacc_val=0.976190\n",
            "\n",
            "\n",
            "Iteration 2700:\tlearning_rate=0.000878,\tloss_train=0.003273,\tloss_val=0.139001,\tacc_train=1.000000,\tacc_val=0.976190\n",
            "\n",
            "\n",
            "Iteration 2800:\tlearning_rate=0.000840,\tloss_train=0.012319,\tloss_val=0.135318,\tacc_train=1.000000,\tacc_val=0.961905\n",
            "\n",
            "\n",
            "Iteration 2900:\tlearning_rate=0.000804,\tloss_train=0.001211,\tloss_val=0.093996,\tacc_train=1.000000,\tacc_val=0.971429\n",
            "\n",
            "\n",
            "Iteration 3000:\tlearning_rate=0.000769,\tloss_train=0.007525,\tloss_val=0.118092,\tacc_train=1.000000,\tacc_val=0.971429\n",
            "\n",
            "\n",
            "Iteration 3100:\tlearning_rate=0.000737,\tloss_train=0.000978,\tloss_val=0.096254,\tacc_train=1.000000,\tacc_val=0.978571\n",
            "\n",
            "\n",
            "Iteration 3200:\tlearning_rate=0.000706,\tloss_train=0.002101,\tloss_val=0.105198,\tacc_train=1.000000,\tacc_val=0.978571\n",
            "\n",
            "\n",
            "Iteration 3300:\tlearning_rate=0.000676,\tloss_train=0.000711,\tloss_val=0.102154,\tacc_train=1.000000,\tacc_val=0.978571\n",
            "\n",
            "\n",
            "Iteration 3400:\tlearning_rate=0.000648,\tloss_train=0.001396,\tloss_val=0.084179,\tacc_train=1.000000,\tacc_val=0.976190\n",
            "\n",
            "\n",
            "Iteration 3500:\tlearning_rate=0.000621,\tloss_train=0.001752,\tloss_val=0.107870,\tacc_train=1.000000,\tacc_val=0.973810\n",
            "\n",
            "\n",
            "Iteration 3600:\tlearning_rate=0.000596,\tloss_train=0.021148,\tloss_val=0.122196,\tacc_train=0.990000,\tacc_val=0.971429\n",
            "\n",
            "\n",
            "Iteration 3700:\tlearning_rate=0.000572,\tloss_train=0.000963,\tloss_val=0.100047,\tacc_train=1.000000,\tacc_val=0.983333\n",
            "\n",
            "\n",
            "Iteration 3800:\tlearning_rate=0.000549,\tloss_train=0.006953,\tloss_val=0.114600,\tacc_train=1.000000,\tacc_val=0.976190\n",
            "\n",
            "\n",
            "Iteration 3900:\tlearning_rate=0.000527,\tloss_train=0.003632,\tloss_val=0.141459,\tacc_train=1.000000,\tacc_val=0.973810\n",
            "\n",
            "\n",
            "Iteration 4000:\tlearning_rate=0.000506,\tloss_train=0.001580,\tloss_val=0.122974,\tacc_train=1.000000,\tacc_val=0.973810\n",
            "\n",
            "\n",
            "Iteration 4100:\tlearning_rate=0.000486,\tloss_train=0.000614,\tloss_val=0.116348,\tacc_train=1.000000,\tacc_val=0.976190\n",
            "\n",
            "\n",
            "Iteration 4200:\tlearning_rate=0.000467,\tloss_train=0.000404,\tloss_val=0.087481,\tacc_train=1.000000,\tacc_val=0.985714\n",
            "\n",
            "\n",
            "Iteration 4300:\tlearning_rate=0.000449,\tloss_train=0.000965,\tloss_val=0.113878,\tacc_train=1.000000,\tacc_val=0.980952\n",
            "\n",
            "\n",
            "Iteration 4400:\tlearning_rate=0.000432,\tloss_train=0.000282,\tloss_val=0.123528,\tacc_train=1.000000,\tacc_val=0.971429\n",
            "\n",
            "\n",
            "Iteration 4500:\tlearning_rate=0.000416,\tloss_train=0.001030,\tloss_val=0.119083,\tacc_train=1.000000,\tacc_val=0.973810\n",
            "\n",
            "\n",
            "Iteration 4600:\tlearning_rate=0.000401,\tloss_train=0.000042,\tloss_val=0.096700,\tacc_train=1.000000,\tacc_val=0.980952\n",
            "\n",
            "\n",
            "Iteration 4700:\tlearning_rate=0.000386,\tloss_train=0.006869,\tloss_val=0.116136,\tacc_train=1.000000,\tacc_val=0.980952\n",
            "\n",
            "\n",
            "Iteration 4800:\tlearning_rate=0.000372,\tloss_train=0.000259,\tloss_val=0.119990,\tacc_train=1.000000,\tacc_val=0.978571\n",
            "\n",
            "\n",
            "Iteration 4900:\tlearning_rate=0.000359,\tloss_train=0.000248,\tloss_val=0.113240,\tacc_train=1.000000,\tacc_val=0.983333\n",
            "\n",
            "\n",
            "Iteration 5000:\tlearning_rate=0.000346,\tloss_train=0.000417,\tloss_val=0.109463,\tacc_train=1.000000,\tacc_val=0.978571\n",
            "\n",
            "\n",
            "Iteration 5100:\tlearning_rate=0.000334,\tloss_train=0.001386,\tloss_val=0.116885,\tacc_train=1.000000,\tacc_val=0.980952\n",
            "\n",
            "\n",
            "Iteration 5200:\tlearning_rate=0.000323,\tloss_train=0.000767,\tloss_val=0.121722,\tacc_train=1.000000,\tacc_val=0.980952\n",
            "\n",
            "\n",
            "Iteration 5300:\tlearning_rate=0.000312,\tloss_train=0.000476,\tloss_val=0.122123,\tacc_train=1.000000,\tacc_val=0.980952\n",
            "\n",
            "\n",
            "Iteration 5400:\tlearning_rate=0.000302,\tloss_train=0.000622,\tloss_val=0.122130,\tacc_train=1.000000,\tacc_val=0.978571\n",
            "\n",
            "\n",
            "Iteration 5500:\tlearning_rate=0.000292,\tloss_train=0.000027,\tloss_val=0.114486,\tacc_train=1.000000,\tacc_val=0.978571\n",
            "\n",
            "\n",
            "Iteration 5600:\tlearning_rate=0.000282,\tloss_train=0.000169,\tloss_val=0.125212,\tacc_train=1.000000,\tacc_val=0.980952\n",
            "\n",
            "\n",
            "Iteration 5700:\tlearning_rate=0.000274,\tloss_train=0.000346,\tloss_val=0.125921,\tacc_train=1.000000,\tacc_val=0.980952\n",
            "\n",
            "\n",
            "Iteration 5800:\tlearning_rate=0.000265,\tloss_train=0.000157,\tloss_val=0.129063,\tacc_train=1.000000,\tacc_val=0.978571\n",
            "\n",
            "\n",
            "Iteration 5900:\tlearning_rate=0.000257,\tloss_train=0.000041,\tloss_val=0.116717,\tacc_train=1.000000,\tacc_val=0.980952\n",
            "\n",
            "\n",
            "Iteration 6000:\tlearning_rate=0.000249,\tloss_train=0.001210,\tloss_val=0.128624,\tacc_train=1.000000,\tacc_val=0.980952\n",
            "\n",
            "\n",
            "Iteration 6100:\tlearning_rate=0.000242,\tloss_train=0.000105,\tloss_val=0.128735,\tacc_train=1.000000,\tacc_val=0.980952\n",
            "\n",
            "\n",
            "Iteration 6200:\tlearning_rate=0.000235,\tloss_train=0.000098,\tloss_val=0.134590,\tacc_train=1.000000,\tacc_val=0.978571\n",
            "\n",
            "\n",
            "Iteration 6300:\tlearning_rate=0.000229,\tloss_train=0.000053,\tloss_val=0.121328,\tacc_train=1.000000,\tacc_val=0.978571\n",
            "\n",
            "\n",
            "Iteration 6400:\tlearning_rate=0.000222,\tloss_train=0.000064,\tloss_val=0.131076,\tacc_train=1.000000,\tacc_val=0.980952\n",
            "\n",
            "\n",
            "Iteration 6500:\tlearning_rate=0.000216,\tloss_train=0.000227,\tloss_val=0.132674,\tacc_train=1.000000,\tacc_val=0.980952\n",
            "\n",
            "\n",
            "Iteration 6600:\tlearning_rate=0.000211,\tloss_train=0.000037,\tloss_val=0.138046,\tacc_train=1.000000,\tacc_val=0.978571\n",
            "\n",
            "\n",
            "Iteration 6700:\tlearning_rate=0.000205,\tloss_train=0.000012,\tloss_val=0.127886,\tacc_train=1.000000,\tacc_val=0.978571\n",
            "\n",
            "\n",
            "Iteration 6800:\tlearning_rate=0.000200,\tloss_train=0.000057,\tloss_val=0.131985,\tacc_train=1.000000,\tacc_val=0.980952\n",
            "\n",
            "\n",
            "Iteration 6900:\tlearning_rate=0.000195,\tloss_train=0.000017,\tloss_val=0.135048,\tacc_train=1.000000,\tacc_val=0.978571\n",
            "\n",
            "\n",
            "Iteration 7000:\tlearning_rate=0.000191,\tloss_train=0.000032,\tloss_val=0.140897,\tacc_train=1.000000,\tacc_val=0.980952\n",
            "\n",
            "\n",
            "Iteration 7100:\tlearning_rate=0.000186,\tloss_train=0.000015,\tloss_val=0.134286,\tacc_train=1.000000,\tacc_val=0.978571\n",
            "\n",
            "\n",
            "Iteration 7200:\tlearning_rate=0.000182,\tloss_train=0.000064,\tloss_val=0.134169,\tacc_train=1.000000,\tacc_val=0.978571\n",
            "\n",
            "\n",
            "Iteration 7300:\tlearning_rate=0.000178,\tloss_train=0.000234,\tloss_val=0.137930,\tacc_train=1.000000,\tacc_val=0.980952\n",
            "\n",
            "\n",
            "Iteration 7400:\tlearning_rate=0.000174,\tloss_train=0.000169,\tloss_val=0.139426,\tacc_train=1.000000,\tacc_val=0.983333\n",
            "\n",
            "\n",
            "Iteration 7500:\tlearning_rate=0.000171,\tloss_train=0.000025,\tloss_val=0.138024,\tacc_train=1.000000,\tacc_val=0.978571\n",
            "\n",
            "\n",
            "Iteration 7600:\tlearning_rate=0.000167,\tloss_train=0.000070,\tloss_val=0.135285,\tacc_train=1.000000,\tacc_val=0.978571\n",
            "\n",
            "\n",
            "Iteration 7700:\tlearning_rate=0.000164,\tloss_train=0.000162,\tloss_val=0.140297,\tacc_train=1.000000,\tacc_val=0.980952\n",
            "\n",
            "\n",
            "Iteration 7800:\tlearning_rate=0.000161,\tloss_train=0.000043,\tloss_val=0.141254,\tacc_train=1.000000,\tacc_val=0.980952\n",
            "\n",
            "\n",
            "Iteration 7900:\tlearning_rate=0.000158,\tloss_train=0.000002,\tloss_val=0.142326,\tacc_train=1.000000,\tacc_val=0.978571\n",
            "\n",
            "\n",
            "Iteration 8000:\tlearning_rate=0.000155,\tloss_train=0.000172,\tloss_val=0.137184,\tacc_train=1.000000,\tacc_val=0.978571\n",
            "\n",
            "\n",
            "Iteration 8100:\tlearning_rate=0.000152,\tloss_train=0.000028,\tloss_val=0.142286,\tacc_train=1.000000,\tacc_val=0.980952\n",
            "\n",
            "\n",
            "Iteration 8200:\tlearning_rate=0.000150,\tloss_train=0.000194,\tloss_val=0.143592,\tacc_train=1.000000,\tacc_val=0.980952\n",
            "\n",
            "\n",
            "Iteration 8300:\tlearning_rate=0.000147,\tloss_train=0.000084,\tloss_val=0.145860,\tacc_train=1.000000,\tacc_val=0.983333\n",
            "\n",
            "\n",
            "Iteration 8400:\tlearning_rate=0.000145,\tloss_train=0.000105,\tloss_val=0.137312,\tacc_train=1.000000,\tacc_val=0.983333\n",
            "\n",
            "\n",
            "Iteration 8500:\tlearning_rate=0.000143,\tloss_train=0.000085,\tloss_val=0.143880,\tacc_train=1.000000,\tacc_val=0.980952\n",
            "\n",
            "\n",
            "Iteration 8600:\tlearning_rate=0.000141,\tloss_train=0.000038,\tloss_val=0.144298,\tacc_train=1.000000,\tacc_val=0.980952\n",
            "\n",
            "\n",
            "Iteration 8700:\tlearning_rate=0.000139,\tloss_train=0.000075,\tloss_val=0.149353,\tacc_train=1.000000,\tacc_val=0.983333\n",
            "\n",
            "\n",
            "Iteration 8800:\tlearning_rate=0.000137,\tloss_train=0.000053,\tloss_val=0.139342,\tacc_train=1.000000,\tacc_val=0.983333\n",
            "\n",
            "\n",
            "Iteration 8900:\tlearning_rate=0.000135,\tloss_train=0.000068,\tloss_val=0.146170,\tacc_train=1.000000,\tacc_val=0.978571\n",
            "\n",
            "\n",
            "Iteration 9000:\tlearning_rate=0.000133,\tloss_train=0.000030,\tloss_val=0.146940,\tacc_train=1.000000,\tacc_val=0.980952\n",
            "\n",
            "\n",
            "Iteration 9100:\tlearning_rate=0.000132,\tloss_train=0.000054,\tloss_val=0.152208,\tacc_train=1.000000,\tacc_val=0.983333\n",
            "\n",
            "\n",
            "Iteration 9200:\tlearning_rate=0.000130,\tloss_train=0.000058,\tloss_val=0.143352,\tacc_train=1.000000,\tacc_val=0.983333\n",
            "\n",
            "\n",
            "Iteration 9300:\tlearning_rate=0.000129,\tloss_train=0.000003,\tloss_val=0.147069,\tacc_train=1.000000,\tacc_val=0.983333\n",
            "\n",
            "\n",
            "Iteration 9400:\tlearning_rate=0.000127,\tloss_train=0.000095,\tloss_val=0.149196,\tacc_train=1.000000,\tacc_val=0.980952\n",
            "\n",
            "\n",
            "Iteration 9500:\tlearning_rate=0.000126,\tloss_train=0.000079,\tloss_val=0.154677,\tacc_train=1.000000,\tacc_val=0.980952\n",
            "\n",
            "\n",
            "Iteration 9600:\tlearning_rate=0.000125,\tloss_train=0.000024,\tloss_val=0.147348,\tacc_train=1.000000,\tacc_val=0.983333\n",
            "\n",
            "\n",
            "Iteration 9700:\tlearning_rate=0.000123,\tloss_train=0.000027,\tloss_val=0.148688,\tacc_train=1.000000,\tacc_val=0.983333\n",
            "\n",
            "\n",
            "Iteration 9800:\tlearning_rate=0.000122,\tloss_train=0.000067,\tloss_val=0.153394,\tacc_train=1.000000,\tacc_val=0.980952\n",
            "\n",
            "\n",
            "Iteration 9900:\tlearning_rate=0.000121,\tloss_train=0.000077,\tloss_val=0.154496,\tacc_train=1.000000,\tacc_val=0.983333\n",
            "\n",
            "\n",
            "Iteration 10000:\tlearning_rate=0.000120,\tloss_train=0.000050,\tloss_val=0.151487,\tacc_train=1.000000,\tacc_val=0.983333\n",
            "\n",
            "\n",
            "Iteration 10100:\tlearning_rate=0.000119,\tloss_train=0.000061,\tloss_val=0.151732,\tacc_train=1.000000,\tacc_val=0.983333\n",
            "\n",
            "\n",
            "Iteration 10200:\tlearning_rate=0.000118,\tloss_train=0.000017,\tloss_val=0.154671,\tacc_train=1.000000,\tacc_val=0.983333\n",
            "\n",
            "\n",
            "Iteration 10300:\tlearning_rate=0.000117,\tloss_train=0.000008,\tloss_val=0.155829,\tacc_train=1.000000,\tacc_val=0.983333\n",
            "\n",
            "\n",
            "Iteration 10400:\tlearning_rate=0.000117,\tloss_train=0.000017,\tloss_val=0.155537,\tacc_train=1.000000,\tacc_val=0.983333\n",
            "\n",
            "\n",
            "Iteration 10500:\tlearning_rate=0.000116,\tloss_train=0.000100,\tloss_val=0.152368,\tacc_train=1.000000,\tacc_val=0.983333\n",
            "\n",
            "\n",
            "Iteration 10600:\tlearning_rate=0.000115,\tloss_train=0.000003,\tloss_val=0.156555,\tacc_train=1.000000,\tacc_val=0.983333\n",
            "\n",
            "\n",
            "Iteration 10700:\tlearning_rate=0.000114,\tloss_train=0.000028,\tloss_val=0.157432,\tacc_train=1.000000,\tacc_val=0.983333\n",
            "\n",
            "\n",
            "Iteration 10800:\tlearning_rate=0.000114,\tloss_train=0.000008,\tloss_val=0.159465,\tacc_train=1.000000,\tacc_val=0.983333\n",
            "\n",
            "\n",
            "Iteration 10900:\tlearning_rate=0.000113,\tloss_train=0.000045,\tloss_val=0.152263,\tacc_train=1.000000,\tacc_val=0.983333\n",
            "\n",
            "\n",
            "Iteration 11000:\tlearning_rate=0.000112,\tloss_train=0.000037,\tloss_val=0.158727,\tacc_train=1.000000,\tacc_val=0.980952\n",
            "\n",
            "\n",
            "Iteration 11100:\tlearning_rate=0.000112,\tloss_train=0.000001,\tloss_val=0.158735,\tacc_train=1.000000,\tacc_val=0.983333\n",
            "\n",
            "\n",
            "Iteration 11200:\tlearning_rate=0.000111,\tloss_train=0.000009,\tloss_val=0.164074,\tacc_train=1.000000,\tacc_val=0.983333\n",
            "\n",
            "\n",
            "Iteration 11300:\tlearning_rate=0.000111,\tloss_train=0.000015,\tloss_val=0.153356,\tacc_train=1.000000,\tacc_val=0.983333\n",
            "\n",
            "\n",
            "Iteration 11400:\tlearning_rate=0.000110,\tloss_train=0.000016,\tloss_val=0.161319,\tacc_train=1.000000,\tacc_val=0.980952\n",
            "\n",
            "\n",
            "Iteration 11500:\tlearning_rate=0.000110,\tloss_train=0.000106,\tloss_val=0.160788,\tacc_train=1.000000,\tacc_val=0.980952\n",
            "\n",
            "\n",
            "Iteration 11600:\tlearning_rate=0.000109,\tloss_train=0.000046,\tloss_val=0.167214,\tacc_train=1.000000,\tacc_val=0.983333\n",
            "\n",
            "\n",
            "Iteration 11700:\tlearning_rate=0.000109,\tloss_train=0.000007,\tloss_val=0.156922,\tacc_train=1.000000,\tacc_val=0.983333\n",
            "\n",
            "\n",
            "Iteration 11800:\tlearning_rate=0.000108,\tloss_train=0.000025,\tloss_val=0.162993,\tacc_train=1.000000,\tacc_val=0.980952\n",
            "\n",
            "\n",
            "Iteration 11900:\tlearning_rate=0.000108,\tloss_train=0.000036,\tloss_val=0.164803,\tacc_train=1.000000,\tacc_val=0.983333\n",
            "\n",
            "\n",
            "Iteration 12000:\tlearning_rate=0.000107,\tloss_train=0.000007,\tloss_val=0.169972,\tacc_train=1.000000,\tacc_val=0.983333\n",
            "\n",
            "\n",
            "Iteration 12100:\tlearning_rate=0.000107,\tloss_train=0.000006,\tloss_val=0.161035,\tacc_train=1.000000,\tacc_val=0.983333\n",
            "\n",
            "\n",
            "Iteration 12200:\tlearning_rate=0.000107,\tloss_train=0.000028,\tloss_val=0.165642,\tacc_train=1.000000,\tacc_val=0.985714\n",
            "\n",
            "\n",
            "Iteration 12300:\tlearning_rate=0.000106,\tloss_train=0.000030,\tloss_val=0.169050,\tacc_train=1.000000,\tacc_val=0.985714\n",
            "\n",
            "\n",
            "Iteration 12400:\tlearning_rate=0.000106,\tloss_train=0.000042,\tloss_val=0.171945,\tacc_train=1.000000,\tacc_val=0.983333\n",
            "\n",
            "\n",
            "Iteration 12500:\tlearning_rate=0.000106,\tloss_train=0.000000,\tloss_val=0.165678,\tacc_train=1.000000,\tacc_val=0.983333\n",
            "\n",
            "\n",
            "Iteration 12600:\tlearning_rate=0.000106,\tloss_train=0.000059,\tloss_val=0.169318,\tacc_train=1.000000,\tacc_val=0.985714\n",
            "\n",
            "\n",
            "Iteration 12700:\tlearning_rate=0.000105,\tloss_train=0.000002,\tloss_val=0.171732,\tacc_train=1.000000,\tacc_val=0.983333\n",
            "\n",
            "\n",
            "Iteration 12800:\tlearning_rate=0.000105,\tloss_train=0.000008,\tloss_val=0.172671,\tacc_train=1.000000,\tacc_val=0.983333\n",
            "\n",
            "\n",
            "Iteration 12900:\tlearning_rate=0.000105,\tloss_train=0.000022,\tloss_val=0.170145,\tacc_train=1.000000,\tacc_val=0.983333\n",
            "\n",
            "\n",
            "Iteration 13000:\tlearning_rate=0.000105,\tloss_train=0.000014,\tloss_val=0.169613,\tacc_train=1.000000,\tacc_val=0.985714\n",
            "\n",
            "\n",
            "Iteration 13100:\tlearning_rate=0.000104,\tloss_train=0.000022,\tloss_val=0.173350,\tacc_train=1.000000,\tacc_val=0.985714\n",
            "\n",
            "\n",
            "Iteration 13200:\tlearning_rate=0.000104,\tloss_train=0.000017,\tloss_val=0.174494,\tacc_train=1.000000,\tacc_val=0.983333\n",
            "\n",
            "\n",
            "Iteration 13300:\tlearning_rate=0.000104,\tloss_train=0.000004,\tloss_val=0.174744,\tacc_train=1.000000,\tacc_val=0.983333\n",
            "\n",
            "\n",
            "Iteration 13400:\tlearning_rate=0.000104,\tloss_train=0.000008,\tloss_val=0.168747,\tacc_train=1.000000,\tacc_val=0.985714\n",
            "\n",
            "\n",
            "Iteration 13500:\tlearning_rate=0.000104,\tloss_train=0.000003,\tloss_val=0.175297,\tacc_train=1.000000,\tacc_val=0.980952\n",
            "\n",
            "\n",
            "Iteration 13600:\tlearning_rate=0.000103,\tloss_train=0.000006,\tloss_val=0.176315,\tacc_train=1.000000,\tacc_val=0.983333\n",
            "\n",
            "\n",
            "Iteration 13700:\tlearning_rate=0.000103,\tloss_train=0.000008,\tloss_val=0.180650,\tacc_train=1.000000,\tacc_val=0.983333\n",
            "\n",
            "\n",
            "Iteration 13800:\tlearning_rate=0.000103,\tloss_train=0.000003,\tloss_val=0.169489,\tacc_train=1.000000,\tacc_val=0.983333\n",
            "\n",
            "\n",
            "Iteration 13900:\tlearning_rate=0.000103,\tloss_train=0.000002,\tloss_val=0.178385,\tacc_train=1.000000,\tacc_val=0.980952\n",
            "\n",
            "\n",
            "Iteration 14000:\tlearning_rate=0.000103,\tloss_train=0.000004,\tloss_val=0.178698,\tacc_train=1.000000,\tacc_val=0.980952\n",
            "\n",
            "\n",
            "Iteration 14100:\tlearning_rate=0.000103,\tloss_train=0.000005,\tloss_val=0.184971,\tacc_train=1.000000,\tacc_val=0.983333\n",
            "\n",
            "\n",
            "Iteration 14200:\tlearning_rate=0.000102,\tloss_train=0.000003,\tloss_val=0.172697,\tacc_train=1.000000,\tacc_val=0.983333\n",
            "\n",
            "\n",
            "Iteration 14300:\tlearning_rate=0.000102,\tloss_train=0.000004,\tloss_val=0.181583,\tacc_train=1.000000,\tacc_val=0.980952\n",
            "\n",
            "\n",
            "Iteration 14400:\tlearning_rate=0.000102,\tloss_train=0.000007,\tloss_val=0.181975,\tacc_train=1.000000,\tacc_val=0.983333\n",
            "\n",
            "\n",
            "Iteration 14500:\tlearning_rate=0.000102,\tloss_train=0.000002,\tloss_val=0.187914,\tacc_train=1.000000,\tacc_val=0.983333\n",
            "\n",
            "\n",
            "Iteration 14600:\tlearning_rate=0.000102,\tloss_train=0.000001,\tloss_val=0.176596,\tacc_train=1.000000,\tacc_val=0.983333\n",
            "\n",
            "\n",
            "Iteration 14700:\tlearning_rate=0.000102,\tloss_train=0.000002,\tloss_val=0.182572,\tacc_train=1.000000,\tacc_val=0.980952\n",
            "\n",
            "\n",
            "Iteration 14800:\tlearning_rate=0.000102,\tloss_train=0.000004,\tloss_val=0.186989,\tacc_train=1.000000,\tacc_val=0.985714\n",
            "\n",
            "\n",
            "Iteration 14900:\tlearning_rate=0.000102,\tloss_train=0.000004,\tloss_val=0.191179,\tacc_train=1.000000,\tacc_val=0.983333\n",
            "\n",
            "\n",
            "Iteration 15000:\tlearning_rate=0.000102,\tloss_train=0.000005,\tloss_val=0.181813,\tacc_train=1.000000,\tacc_val=0.983333\n",
            "\n",
            "\n",
            "Iteration 15100:\tlearning_rate=0.000102,\tloss_train=0.000001,\tloss_val=0.186374,\tacc_train=1.000000,\tacc_val=0.985714\n",
            "\n",
            "\n",
            "Iteration 15200:\tlearning_rate=0.000102,\tloss_train=0.000003,\tloss_val=0.190656,\tacc_train=1.000000,\tacc_val=0.983333\n",
            "\n",
            "\n",
            "Iteration 15300:\tlearning_rate=0.000101,\tloss_train=0.000002,\tloss_val=0.191656,\tacc_train=1.000000,\tacc_val=0.983333\n",
            "\n",
            "\n",
            "Iteration 15400:\tlearning_rate=0.000101,\tloss_train=0.000000,\tloss_val=0.186654,\tacc_train=1.000000,\tacc_val=0.983333\n",
            "\n",
            "\n",
            "Iteration 15500:\tlearning_rate=0.000101,\tloss_train=0.000002,\tloss_val=0.186797,\tacc_train=1.000000,\tacc_val=0.985714\n",
            "\n",
            "\n",
            "Iteration 15600:\tlearning_rate=0.000101,\tloss_train=0.000005,\tloss_val=0.191625,\tacc_train=1.000000,\tacc_val=0.983333\n",
            "\n",
            "\n",
            "Iteration 15700:\tlearning_rate=0.000101,\tloss_train=0.000002,\tloss_val=0.193895,\tacc_train=1.000000,\tacc_val=0.983333\n",
            "\n",
            "\n",
            "Iteration 15800:\tlearning_rate=0.000101,\tloss_train=0.000000,\tloss_val=0.192582,\tacc_train=1.000000,\tacc_val=0.983333\n",
            "\n",
            "\n",
            "Iteration 15900:\tlearning_rate=0.000101,\tloss_train=0.000003,\tloss_val=0.186695,\tacc_train=1.000000,\tacc_val=0.985714\n",
            "\n",
            "\n",
            "Iteration 16000:\tlearning_rate=0.000101,\tloss_train=0.000001,\tloss_val=0.195680,\tacc_train=1.000000,\tacc_val=0.980952\n",
            "\n",
            "\n",
            "Iteration 16100:\tlearning_rate=0.000101,\tloss_train=0.000005,\tloss_val=0.195989,\tacc_train=1.000000,\tacc_val=0.983333\n",
            "\n",
            "\n",
            "Iteration 16200:\tlearning_rate=0.000101,\tloss_train=0.000002,\tloss_val=0.198264,\tacc_train=1.000000,\tacc_val=0.983333\n",
            "\n",
            "\n",
            "Iteration 16300:\tlearning_rate=0.000101,\tloss_train=0.000005,\tloss_val=0.186722,\tacc_train=1.000000,\tacc_val=0.983333\n",
            "\n",
            "\n",
            "Iteration 16400:\tlearning_rate=0.000101,\tloss_train=0.000003,\tloss_val=0.196510,\tacc_train=1.000000,\tacc_val=0.980952\n",
            "\n",
            "\n",
            "Iteration 16500:\tlearning_rate=0.000101,\tloss_train=0.000000,\tloss_val=0.197155,\tacc_train=1.000000,\tacc_val=0.985714\n",
            "\n",
            "\n",
            "Iteration 16600:\tlearning_rate=0.000101,\tloss_train=0.000002,\tloss_val=0.203611,\tacc_train=1.000000,\tacc_val=0.983333\n",
            "\n",
            "\n",
            "Iteration 16700:\tlearning_rate=0.000101,\tloss_train=0.000002,\tloss_val=0.189113,\tacc_train=1.000000,\tacc_val=0.983333\n",
            "\n",
            "\n",
            "Iteration 16800:\tlearning_rate=0.000101,\tloss_train=0.000004,\tloss_val=0.198900,\tacc_train=1.000000,\tacc_val=0.980952\n",
            "\n",
            "\n",
            "Iteration 16900:\tlearning_rate=0.000101,\tloss_train=0.000001,\tloss_val=0.199518,\tacc_train=1.000000,\tacc_val=0.980952\n",
            "\n",
            "\n",
            "Iteration 17000:\tlearning_rate=0.000101,\tloss_train=0.000001,\tloss_val=0.206804,\tacc_train=1.000000,\tacc_val=0.983333\n",
            "\n",
            "\n",
            "Iteration 17100:\tlearning_rate=0.000101,\tloss_train=0.000001,\tloss_val=0.193222,\tacc_train=1.000000,\tacc_val=0.983333\n",
            "\n",
            "\n",
            "Iteration 17200:\tlearning_rate=0.000101,\tloss_train=0.000001,\tloss_val=0.199791,\tacc_train=1.000000,\tacc_val=0.980952\n",
            "\n",
            "\n",
            "Iteration 17300:\tlearning_rate=0.000101,\tloss_train=0.000002,\tloss_val=0.205359,\tacc_train=1.000000,\tacc_val=0.985714\n",
            "\n",
            "\n",
            "Iteration 17400:\tlearning_rate=0.000100,\tloss_train=0.000002,\tloss_val=0.210328,\tacc_train=1.000000,\tacc_val=0.983333\n",
            "\n",
            "\n",
            "Iteration 17500:\tlearning_rate=0.000100,\tloss_train=0.000001,\tloss_val=0.198597,\tacc_train=1.000000,\tacc_val=0.983333\n",
            "\n",
            "\n",
            "Iteration 17600:\tlearning_rate=0.000100,\tloss_train=0.000001,\tloss_val=0.202183,\tacc_train=1.000000,\tacc_val=0.985714\n",
            "\n",
            "\n",
            "Iteration 17700:\tlearning_rate=0.000100,\tloss_train=0.000002,\tloss_val=0.209358,\tacc_train=1.000000,\tacc_val=0.983333\n",
            "\n",
            "\n",
            "Iteration 17800:\tlearning_rate=0.000100,\tloss_train=0.000001,\tloss_val=0.211746,\tacc_train=1.000000,\tacc_val=0.983333\n",
            "\n",
            "\n",
            "Iteration 17900:\tlearning_rate=0.000100,\tloss_train=0.000001,\tloss_val=0.204554,\tacc_train=1.000000,\tacc_val=0.983333\n",
            "\n",
            "\n",
            "Iteration 18000:\tlearning_rate=0.000100,\tloss_train=0.000001,\tloss_val=0.204087,\tacc_train=1.000000,\tacc_val=0.985714\n",
            "\n",
            "\n",
            "Iteration 18100:\tlearning_rate=0.000100,\tloss_train=0.000001,\tloss_val=0.211776,\tacc_train=1.000000,\tacc_val=0.983333\n",
            "\n",
            "\n",
            "Iteration 18200:\tlearning_rate=0.000100,\tloss_train=0.000000,\tloss_val=0.212910,\tacc_train=1.000000,\tacc_val=0.983333\n",
            "\n",
            "\n",
            "Iteration 18300:\tlearning_rate=0.000100,\tloss_train=0.000001,\tloss_val=0.211444,\tacc_train=1.000000,\tacc_val=0.983333\n",
            "\n",
            "\n",
            "Iteration 18400:\tlearning_rate=0.000100,\tloss_train=0.000004,\tloss_val=0.205604,\tacc_train=1.000000,\tacc_val=0.985714\n",
            "\n",
            "\n",
            "Iteration 18500:\tlearning_rate=0.000100,\tloss_train=0.000001,\tloss_val=0.214025,\tacc_train=1.000000,\tacc_val=0.983333\n",
            "\n",
            "\n",
            "Iteration 18600:\tlearning_rate=0.000100,\tloss_train=0.000000,\tloss_val=0.214531,\tacc_train=1.000000,\tacc_val=0.983333\n",
            "\n",
            "\n",
            "Iteration 18700:\tlearning_rate=0.000100,\tloss_train=0.000000,\tloss_val=0.216908,\tacc_train=1.000000,\tacc_val=0.983333\n",
            "\n",
            "\n",
            "Iteration 18800:\tlearning_rate=0.000100,\tloss_train=0.000001,\tloss_val=0.205368,\tacc_train=1.000000,\tacc_val=0.985714\n",
            "\n",
            "\n",
            "Iteration 18900:\tlearning_rate=0.000100,\tloss_train=0.000001,\tloss_val=0.214322,\tacc_train=1.000000,\tacc_val=0.980952\n",
            "\n",
            "\n",
            "Iteration 19000:\tlearning_rate=0.000100,\tloss_train=0.000000,\tloss_val=0.215607,\tacc_train=1.000000,\tacc_val=0.985714\n",
            "\n",
            "\n",
            "Iteration 19100:\tlearning_rate=0.000100,\tloss_train=0.000000,\tloss_val=0.222390,\tacc_train=1.000000,\tacc_val=0.983333\n",
            "\n",
            "\n",
            "Iteration 19200:\tlearning_rate=0.000100,\tloss_train=0.000000,\tloss_val=0.207105,\tacc_train=1.000000,\tacc_val=0.983333\n",
            "\n",
            "\n",
            "Iteration 19300:\tlearning_rate=0.000100,\tloss_train=0.000000,\tloss_val=0.216442,\tacc_train=1.000000,\tacc_val=0.980952\n",
            "\n",
            "\n",
            "Iteration 19400:\tlearning_rate=0.000100,\tloss_train=0.000001,\tloss_val=0.218214,\tacc_train=1.000000,\tacc_val=0.983333\n",
            "\n",
            "\n",
            "Iteration 19500:\tlearning_rate=0.000100,\tloss_train=0.000001,\tloss_val=0.225849,\tacc_train=1.000000,\tacc_val=0.983333\n",
            "\n",
            "\n",
            "Iteration 19600:\tlearning_rate=0.000100,\tloss_train=0.000000,\tloss_val=0.211678,\tacc_train=1.000000,\tacc_val=0.983333\n",
            "\n",
            "\n",
            "Iteration 19700:\tlearning_rate=0.000100,\tloss_train=0.000000,\tloss_val=0.218035,\tacc_train=1.000000,\tacc_val=0.980952\n",
            "\n",
            "\n",
            "Iteration 19800:\tlearning_rate=0.000100,\tloss_train=0.000001,\tloss_val=0.222560,\tacc_train=1.000000,\tacc_val=0.983333\n",
            "\n",
            "\n",
            "Iteration 19900:\tlearning_rate=0.000100,\tloss_train=0.000000,\tloss_val=0.230288,\tacc_train=1.000000,\tacc_val=0.983333\n",
            "\n",
            "\n"
          ],
          "name": "stdout"
        }
      ]
    },
    {
      "metadata": {
        "id": "s5rC6lSIAR-P",
        "colab_type": "code",
        "outputId": "fea3b604-c36e-4559-922b-974186281fc4",
        "colab": {
          "base_uri": "https://localhost:8080/",
          "height": 282
        }
      },
      "cell_type": "code",
      "source": [
        "plt.plot(history['acc_train'],'b')\n",
        "plt.plot(history['acc_val'],'r')"
      ],
      "execution_count": 38,
      "outputs": [
        {
          "output_type": "execute_result",
          "data": {
            "text/plain": [
              "[<matplotlib.lines.Line2D at 0x7f65358faa20>]"
            ]
          },
          "metadata": {
            "tags": []
          },
          "execution_count": 38
        },
        {
          "output_type": "display_data",
          "data": {
            "image/png": "[encoded data removed]",
            "text/plain": [
              "<Figure size 432x288 with 1 Axes>"
            ]
          },
          "metadata": {
            "tags": []
          }
        }
      ]
    },
    {
      "metadata": {
        "id": "tkToA3CjBxJe",
        "colab_type": "code",
        "outputId": "2b62ffeb-f04e-48ec-c256-76d933ebc28d",
        "colab": {
          "base_uri": "https://localhost:8080/",
          "height": 282
        }
      },
      "cell_type": "code",
      "source": [
        "plt.plot(history['loss_train'],'b')\n",
        "plt.plot(history['loss_val'],'r')"
      ],
      "execution_count": 0,
      "outputs": [
        {
          "output_type": "execute_result",
          "data": {
            "text/plain": [
              "[<matplotlib.lines.Line2D at 0x7f456771c208>]"
            ]
          },
          "metadata": {
            "tags": []
          },
          "execution_count": 37
        },
        {
          "output_type": "display_data",
          "data": {
            "image/png": "[encoded data removed]",
            "text/plain": [
              "<Figure size 432x288 with 1 Axes>"
            ]
          },
          "metadata": {
            "tags": []
          }
        }
      ]
    },
    {
      "metadata": {
        "id": "NJPdR4IFb-uc",
        "colab_type": "code",
        "colab": {
          "base_uri": "https://localhost:8080/",
          "height": 282
        },
        "outputId": "e44c4c00-20ae-424d-e679-9c5c430356bb"
      },
      "cell_type": "code",
      "source": [
        "plt.plot(history['learning_rate'])"
      ],
      "execution_count": 27,
      "outputs": [
        {
          "output_type": "execute_result",
          "data": {
            "text/plain": [
              "[<matplotlib.lines.Line2D at 0x7f6534f34eb8>]"
            ]
          },
          "metadata": {
            "tags": []
          },
          "execution_count": 27
        },
        {
          "output_type": "display_data",
          "data": {
            "image/png": "[encoded data removed]",
            "text/plain": [
              "<Figure size 432x288 with 1 Axes>"
            ]
          },
          "metadata": {
            "tags": []
          }
        }
      ]
    },
    {
      "metadata": {
        "id": "X9uiFJ-ogBRi",
        "colab_type": "text"
      },
      "cell_type": "markdown",
      "source": [
        "### Loading a Model"
      ]
    },
    {
      "metadata": {
        "id": "dbtjpi8JgBRj",
        "colab_type": "code",
        "outputId": "c959f299-ebd1-459b-8f5d-830eb4021a21",
        "colab": {}
      },
      "cell_type": "code",
      "source": [
        "with tf.Session() as sess:\n",
        "    \n",
        "    # Restore the model\n",
        "    saver.restore(sess, 'models_saving/my_model.ckpt')\n",
        "    \n",
        "\n",
        "    # Fetch Back Results\n",
        "    label = sess.run(y_pred, feed_dict={x:X_unlabeled,hold_prob:1.0})"
      ],
      "execution_count": 0,
      "outputs": [
        {
          "output_type": "stream",
          "text": [
            "INFO:tensorflow:Restoring parameters from models_saving/my_model.ckpt\n"
          ],
          "name": "stdout"
        }
      ]
    },
    {
      "metadata": {
        "id": "67eRDYiDgBRm",
        "colab_type": "code",
        "outputId": "072c39fb-512d-4b99-c3f1-5e43583a43e6",
        "colab": {}
      },
      "cell_type": "code",
      "source": [
        "label.shape"
      ],
      "execution_count": 0,
      "outputs": [
        {
          "output_type": "execute_result",
          "data": {
            "text/plain": [
              "(28000, 10)"
            ]
          },
          "metadata": {
            "tags": []
          },
          "execution_count": 145
        }
      ]
    },
    {
      "metadata": {
        "id": "9KWKoSzEgBRq",
        "colab_type": "code",
        "colab": {}
      },
      "cell_type": "code",
      "source": [
        "label = np.argmax(label, axis=1 )"
      ],
      "execution_count": 0,
      "outputs": []
    },
    {
      "metadata": {
        "id": "hCR-AZTmgBRt",
        "colab_type": "code",
        "outputId": "15cd3ce6-3b5d-4d1e-ff47-c470d7594ecf",
        "colab": {}
      },
      "cell_type": "code",
      "source": [
        "label.shape"
      ],
      "execution_count": 0,
      "outputs": [
        {
          "output_type": "execute_result",
          "data": {
            "text/plain": [
              "(28000,)"
            ]
          },
          "metadata": {
            "tags": []
          },
          "execution_count": 147
        }
      ]
    },
    {
      "metadata": {
        "colab_type": "text",
        "id": "u13ffZdjrqQf"
      },
      "cell_type": "markdown",
      "source": [
        "### Predict"
      ]
    },
    {
      "metadata": {
        "colab_type": "code",
        "id": "In9n3ZirrqQg",
        "colab": {}
      },
      "cell_type": "code",
      "source": [
        "unlabeled_images_test = pd.read_csv('gdrive/My Drive/dataML/test.csv')\n",
        "#unlabeled_images_test = pd.read_csv('test.csv')"
      ],
      "execution_count": 0,
      "outputs": []
    },
    {
      "metadata": {
        "colab_type": "code",
        "id": "ErPyp1xIrqQi",
        "colab": {}
      },
      "cell_type": "code",
      "source": [
        "X_unlabeled = unlabeled_images_test.values.reshape(unlabeled_images_test.shape[0],28,28,1)/255"
      ],
      "execution_count": 0,
      "outputs": []
    },
    {
      "metadata": {
        "colab_type": "code",
        "outputId": "be1e8ef0-ff29-43e5-bc02-b33c5b515d43",
        "id": "0f6xn42MrqQk",
        "colab": {
          "base_uri": "https://localhost:8080/",
          "height": 282
        }
      },
      "cell_type": "code",
      "source": [
        "plt.imshow(X_unlabeled[1].reshape(28,28))"
      ],
      "execution_count": 0,
      "outputs": [
        {
          "output_type": "execute_result",
          "data": {
            "text/plain": [
              "<matplotlib.image.AxesImage at 0x7f077569d588>"
            ]
          },
          "metadata": {
            "tags": []
          },
          "execution_count": 24
        },
        {
          "output_type": "display_data",
          "data": {
            "image/png": "[encoded data removed]",
            "text/plain": [
              "<Figure size 432x288 with 1 Axes>"
            ]
          },
          "metadata": {
            "tags": []
          }
        }
      ]
    },
    {
      "metadata": {
        "colab_type": "code",
        "outputId": "e287e92d-d7c5-4e6b-cc37-711face336b9",
        "id": "3QYd9lBwrqQo",
        "colab": {
          "base_uri": "https://localhost:8080/",
          "height": 34
        }
      },
      "cell_type": "code",
      "source": [
        "X_unlabeled.shape"
      ],
      "execution_count": 0,
      "outputs": [
        {
          "output_type": "execute_result",
          "data": {
            "text/plain": [
              "(28000, 28, 28, 1)"
            ]
          },
          "metadata": {
            "tags": []
          },
          "execution_count": 25
        }
      ]
    },
    {
      "metadata": {
        "id": "ojRKNc76gBRx",
        "colab_type": "text"
      },
      "cell_type": "markdown",
      "source": [
        "## Predict the unlabeled test sets using the model"
      ]
    },
    {
      "metadata": {
        "id": "yQrGiou8gBRy",
        "colab_type": "code",
        "colab": {}
      },
      "cell_type": "code",
      "source": [
        "imageId = np.arange(1,label.shape[0]+1).tolist()"
      ],
      "execution_count": 0,
      "outputs": []
    },
    {
      "metadata": {
        "id": "9Oj02pY3gBR1",
        "colab_type": "code",
        "colab": {}
      },
      "cell_type": "code",
      "source": [
        "prediction_pd = pd.DataFrame({'ImageId':imageId, 'Label':label})"
      ],
      "execution_count": 0,
      "outputs": []
    },
    {
      "metadata": {
        "id": "VLjMgeXEgBR4",
        "colab_type": "code",
        "colab": {}
      },
      "cell_type": "code",
      "source": [
        "prediction_pd.to_csv('out_cnn4.csv',sep = ',', index = False)"
      ],
      "execution_count": 0,
      "outputs": []
    },
    {
      "metadata": {
        "id": "76xhwmO1gBR6",
        "colab_type": "code",
        "colab": {}
      },
      "cell_type": "code",
      "source": [
        ""
      ],
      "execution_count": 0,
      "outputs": []
    }
  ]
}